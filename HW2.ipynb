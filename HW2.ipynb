{
 "cells": [
  {
   "cell_type": "code",
   "execution_count": 1,
   "metadata": {
    "collapsed": true
   },
   "outputs": [],
   "source": [
    "import pandas as pd\n",
    "import numpy as np\n",
    "import xgboost as xg\n",
    "from sklearn.metrics import accuracy_score, roc_auc_score\n",
    "from sklearn.model_selection import train_test_split\n",
    "from catboost import CatBoostClassifier, CatBoostRegressor, cv, Pool"
   ]
  },
  {
   "cell_type": "code",
   "execution_count": 2,
   "outputs": [
    {
     "data": {
      "text/plain": "                                                 msno  \\\n0        FGtllVqz18RPiwJj/edr2gV78zirAiY/9SmYvia+kCg=   \n1        Xumu+NIjS6QYVxDS4/t3SawvJ7viT9hPKXmf0RtLNx8=   \n2        Xumu+NIjS6QYVxDS4/t3SawvJ7viT9hPKXmf0RtLNx8=   \n3        Xumu+NIjS6QYVxDS4/t3SawvJ7viT9hPKXmf0RtLNx8=   \n4        FGtllVqz18RPiwJj/edr2gV78zirAiY/9SmYvia+kCg=   \n...                                               ...   \n7377413  6xdFzPlrasIDD95mQWXVC3Bg4ptnGYtBl4ztVEZMddU=   \n7377414  ZxbVmt3Kh/XOH+h58c2Kdj6SjFZk+wnUO006IgWzMQE=   \n7377415  ZxbVmt3Kh/XOH+h58c2Kdj6SjFZk+wnUO006IgWzMQE=   \n7377416  0aH4Hd3ziPSRHClRX8rkeOEaAG5EPPkW1mKGCdXEok0=   \n7377417  0aH4Hd3ziPSRHClRX8rkeOEaAG5EPPkW1mKGCdXEok0=   \n\n                                              song_id source_system_tab  \\\n0        BBzumQNXUHKdEBOB7mAJuzok+IJA1c2Ryg/yzTF6tik=           explore   \n1        bhp/MpSNoqoxOIB+/l8WPqu6jldth4DIpCm3ayXnJqM=        my library   \n2        JNWfrrC7zNN7BdMpsISKa4Mw+xVJYNnxXh3/Epw7QgY=        my library   \n3        2A87tzfnJTSWqD7gIZHisolhe4DMdzkbd6LzO1KHjNs=        my library   \n4        3qm6XTZ6MOCU11x8FIVbAGH5l5uMkT3/ZalWG1oo2Gc=           explore   \n...                                               ...               ...   \n7377413  VJTxizih/o28kXCbtPbIyWXScoXGvxyYtl6R+0YB5JM=        my library   \n7377414  z1mqaU9YOX7T/PFDvUoWozdFq7rC3KwaQP7nFVprjMI=            search   \n7377415  750RprmFfLV0bymtDH88g24pLZGVi5VpBAI300P6UOA=            search   \n7377416  G8wgqObgeAMER/rVCIlgcNeQ8mm0CzF/GsxiMK8TTnA=          discover   \n7377417  Ju0VGkjWeBUZCd7r5Az2hUImhMoWxWLUicOedsmvG0g=          discover   \n\n          source_screen_name      source_type  target  \n0                    Explore  online-playlist       1  \n1        Local playlist more   local-playlist       1  \n2        Local playlist more   local-playlist       1  \n3        Local playlist more   local-playlist       1  \n4                    Explore  online-playlist       1  \n...                      ...              ...     ...  \n7377413  Local playlist more   local-playlist       1  \n7377414               Search             song       0  \n7377415               Search             song       1  \n7377416       Discover Genre  online-playlist       1  \n7377417       Discover Genre  online-playlist       1  \n\n[7377418 rows x 6 columns]",
      "text/html": "<div>\n<style scoped>\n    .dataframe tbody tr th:only-of-type {\n        vertical-align: middle;\n    }\n\n    .dataframe tbody tr th {\n        vertical-align: top;\n    }\n\n    .dataframe thead th {\n        text-align: right;\n    }\n</style>\n<table border=\"1\" class=\"dataframe\">\n  <thead>\n    <tr style=\"text-align: right;\">\n      <th></th>\n      <th>msno</th>\n      <th>song_id</th>\n      <th>source_system_tab</th>\n      <th>source_screen_name</th>\n      <th>source_type</th>\n      <th>target</th>\n    </tr>\n  </thead>\n  <tbody>\n    <tr>\n      <th>0</th>\n      <td>FGtllVqz18RPiwJj/edr2gV78zirAiY/9SmYvia+kCg=</td>\n      <td>BBzumQNXUHKdEBOB7mAJuzok+IJA1c2Ryg/yzTF6tik=</td>\n      <td>explore</td>\n      <td>Explore</td>\n      <td>online-playlist</td>\n      <td>1</td>\n    </tr>\n    <tr>\n      <th>1</th>\n      <td>Xumu+NIjS6QYVxDS4/t3SawvJ7viT9hPKXmf0RtLNx8=</td>\n      <td>bhp/MpSNoqoxOIB+/l8WPqu6jldth4DIpCm3ayXnJqM=</td>\n      <td>my library</td>\n      <td>Local playlist more</td>\n      <td>local-playlist</td>\n      <td>1</td>\n    </tr>\n    <tr>\n      <th>2</th>\n      <td>Xumu+NIjS6QYVxDS4/t3SawvJ7viT9hPKXmf0RtLNx8=</td>\n      <td>JNWfrrC7zNN7BdMpsISKa4Mw+xVJYNnxXh3/Epw7QgY=</td>\n      <td>my library</td>\n      <td>Local playlist more</td>\n      <td>local-playlist</td>\n      <td>1</td>\n    </tr>\n    <tr>\n      <th>3</th>\n      <td>Xumu+NIjS6QYVxDS4/t3SawvJ7viT9hPKXmf0RtLNx8=</td>\n      <td>2A87tzfnJTSWqD7gIZHisolhe4DMdzkbd6LzO1KHjNs=</td>\n      <td>my library</td>\n      <td>Local playlist more</td>\n      <td>local-playlist</td>\n      <td>1</td>\n    </tr>\n    <tr>\n      <th>4</th>\n      <td>FGtllVqz18RPiwJj/edr2gV78zirAiY/9SmYvia+kCg=</td>\n      <td>3qm6XTZ6MOCU11x8FIVbAGH5l5uMkT3/ZalWG1oo2Gc=</td>\n      <td>explore</td>\n      <td>Explore</td>\n      <td>online-playlist</td>\n      <td>1</td>\n    </tr>\n    <tr>\n      <th>...</th>\n      <td>...</td>\n      <td>...</td>\n      <td>...</td>\n      <td>...</td>\n      <td>...</td>\n      <td>...</td>\n    </tr>\n    <tr>\n      <th>7377413</th>\n      <td>6xdFzPlrasIDD95mQWXVC3Bg4ptnGYtBl4ztVEZMddU=</td>\n      <td>VJTxizih/o28kXCbtPbIyWXScoXGvxyYtl6R+0YB5JM=</td>\n      <td>my library</td>\n      <td>Local playlist more</td>\n      <td>local-playlist</td>\n      <td>1</td>\n    </tr>\n    <tr>\n      <th>7377414</th>\n      <td>ZxbVmt3Kh/XOH+h58c2Kdj6SjFZk+wnUO006IgWzMQE=</td>\n      <td>z1mqaU9YOX7T/PFDvUoWozdFq7rC3KwaQP7nFVprjMI=</td>\n      <td>search</td>\n      <td>Search</td>\n      <td>song</td>\n      <td>0</td>\n    </tr>\n    <tr>\n      <th>7377415</th>\n      <td>ZxbVmt3Kh/XOH+h58c2Kdj6SjFZk+wnUO006IgWzMQE=</td>\n      <td>750RprmFfLV0bymtDH88g24pLZGVi5VpBAI300P6UOA=</td>\n      <td>search</td>\n      <td>Search</td>\n      <td>song</td>\n      <td>1</td>\n    </tr>\n    <tr>\n      <th>7377416</th>\n      <td>0aH4Hd3ziPSRHClRX8rkeOEaAG5EPPkW1mKGCdXEok0=</td>\n      <td>G8wgqObgeAMER/rVCIlgcNeQ8mm0CzF/GsxiMK8TTnA=</td>\n      <td>discover</td>\n      <td>Discover Genre</td>\n      <td>online-playlist</td>\n      <td>1</td>\n    </tr>\n    <tr>\n      <th>7377417</th>\n      <td>0aH4Hd3ziPSRHClRX8rkeOEaAG5EPPkW1mKGCdXEok0=</td>\n      <td>Ju0VGkjWeBUZCd7r5Az2hUImhMoWxWLUicOedsmvG0g=</td>\n      <td>discover</td>\n      <td>Discover Genre</td>\n      <td>online-playlist</td>\n      <td>1</td>\n    </tr>\n  </tbody>\n</table>\n<p>7377418 rows × 6 columns</p>\n</div>"
     },
     "execution_count": 2,
     "metadata": {},
     "output_type": "execute_result"
    }
   ],
   "source": [
    "data_path = \"data/\"\n",
    "dataset_train = pd.read_csv(data_path + \"train.csv\")\n",
    "\n",
    "dataset_train"
   ],
   "metadata": {
    "collapsed": false,
    "pycharm": {
     "name": "#%%\n"
    }
   }
  },
  {
   "cell_type": "code",
   "source": [
    "dataset_train.isnull().sum(axis=0)"
   ],
   "metadata": {
    "collapsed": false,
    "pycharm": {
     "name": "#%%\n"
    }
   },
   "execution_count": 3,
   "outputs": [
    {
     "data": {
      "text/plain": "msno                       0\nsong_id                    0\nsource_system_tab      24849\nsource_screen_name    414804\nsource_type            21539\ntarget                     0\ndtype: int64"
     },
     "execution_count": 3,
     "metadata": {},
     "output_type": "execute_result"
    }
   ]
  },
  {
   "cell_type": "code",
   "execution_count": 4,
   "outputs": [],
   "source": [
    "dataset_train['source_system_tab'] = dataset_train['source_system_tab'].fillna('unknown')\n",
    "dataset_train['source_screen_name'] = dataset_train['source_screen_name'].fillna('unknown')\n",
    "dataset_train['source_type'] = dataset_train['source_type'].fillna('unknown')"
   ],
   "metadata": {
    "collapsed": false,
    "pycharm": {
     "name": "#%%\n"
    }
   }
  },
  {
   "cell_type": "code",
   "execution_count": 5,
   "outputs": [
    {
     "data": {
      "text/plain": "                                           msno  city  bd gender  \\\n0  XQxgAYj3klVKjR3oxPPXYYFp4soD4TuBghkhMTD4oTw=     1   0    NaN   \n1  UizsfmJb9mV54qE9hCYyU07Va97c0lCRLEQX3ae+ztM=     1   0    NaN   \n2  D8nEhsIOBSoE6VthTaqDX8U6lqjJ7dLdr72mOyLya2A=     1   0    NaN   \n3  mCuD+tZ1hERA/o5GPqk38e041J8ZsBaLcu7nGoIIvhI=     1   0    NaN   \n4  q4HRBfVSssAFS9iRfxWrohxuk9kCYMKjHOEagUMV6rQ=     1   0    NaN   \n\n   registered_via  registration_init_time  expiration_date  \n0               7                20110820         20170920  \n1               7                20150628         20170622  \n2               4                20160411         20170712  \n3               9                20150906         20150907  \n4               4                20170126         20170613  ",
      "text/html": "<div>\n<style scoped>\n    .dataframe tbody tr th:only-of-type {\n        vertical-align: middle;\n    }\n\n    .dataframe tbody tr th {\n        vertical-align: top;\n    }\n\n    .dataframe thead th {\n        text-align: right;\n    }\n</style>\n<table border=\"1\" class=\"dataframe\">\n  <thead>\n    <tr style=\"text-align: right;\">\n      <th></th>\n      <th>msno</th>\n      <th>city</th>\n      <th>bd</th>\n      <th>gender</th>\n      <th>registered_via</th>\n      <th>registration_init_time</th>\n      <th>expiration_date</th>\n    </tr>\n  </thead>\n  <tbody>\n    <tr>\n      <th>0</th>\n      <td>XQxgAYj3klVKjR3oxPPXYYFp4soD4TuBghkhMTD4oTw=</td>\n      <td>1</td>\n      <td>0</td>\n      <td>NaN</td>\n      <td>7</td>\n      <td>20110820</td>\n      <td>20170920</td>\n    </tr>\n    <tr>\n      <th>1</th>\n      <td>UizsfmJb9mV54qE9hCYyU07Va97c0lCRLEQX3ae+ztM=</td>\n      <td>1</td>\n      <td>0</td>\n      <td>NaN</td>\n      <td>7</td>\n      <td>20150628</td>\n      <td>20170622</td>\n    </tr>\n    <tr>\n      <th>2</th>\n      <td>D8nEhsIOBSoE6VthTaqDX8U6lqjJ7dLdr72mOyLya2A=</td>\n      <td>1</td>\n      <td>0</td>\n      <td>NaN</td>\n      <td>4</td>\n      <td>20160411</td>\n      <td>20170712</td>\n    </tr>\n    <tr>\n      <th>3</th>\n      <td>mCuD+tZ1hERA/o5GPqk38e041J8ZsBaLcu7nGoIIvhI=</td>\n      <td>1</td>\n      <td>0</td>\n      <td>NaN</td>\n      <td>9</td>\n      <td>20150906</td>\n      <td>20150907</td>\n    </tr>\n    <tr>\n      <th>4</th>\n      <td>q4HRBfVSssAFS9iRfxWrohxuk9kCYMKjHOEagUMV6rQ=</td>\n      <td>1</td>\n      <td>0</td>\n      <td>NaN</td>\n      <td>4</td>\n      <td>20170126</td>\n      <td>20170613</td>\n    </tr>\n  </tbody>\n</table>\n</div>"
     },
     "execution_count": 5,
     "metadata": {},
     "output_type": "execute_result"
    }
   ],
   "source": [
    "dataset_members = pd.read_csv(data_path + \"members.csv\")\n",
    "dataset_members.head()"
   ],
   "metadata": {
    "collapsed": false,
    "pycharm": {
     "name": "#%%\n"
    }
   }
  },
  {
   "cell_type": "markdown",
   "source": [
    "Проверим, что в тренировочном датасете отсутсвуют неизвестные пользователи, то есть пользователи которых нет в members.csv"
   ],
   "metadata": {
    "collapsed": false
   }
  },
  {
   "cell_type": "code",
   "execution_count": 6,
   "outputs": [
    {
     "data": {
      "text/plain": "0"
     },
     "execution_count": 6,
     "metadata": {},
     "output_type": "execute_result"
    }
   ],
   "source": [
    "len(set(dataset_train['msno']) - set(dataset_members['msno']))"
   ],
   "metadata": {
    "collapsed": false,
    "pycharm": {
     "name": "#%%\n"
    }
   }
  },
  {
   "cell_type": "code",
   "execution_count": 7,
   "outputs": [
    {
     "data": {
      "text/plain": "msno                          0\ncity                          0\nbd                            0\ngender                    19902\nregistered_via                0\nregistration_init_time        0\nexpiration_date               0\ndtype: int64"
     },
     "execution_count": 7,
     "metadata": {},
     "output_type": "execute_result"
    }
   ],
   "source": [
    "dataset_members.isnull().sum(axis=0)"
   ],
   "metadata": {
    "collapsed": false,
    "pycharm": {
     "name": "#%%\n"
    }
   }
  },
  {
   "cell_type": "code",
   "execution_count": 8,
   "outputs": [],
   "source": [
    "dataset_members['gender'] = dataset_members['gender'].fillna('unknown')"
   ],
   "metadata": {
    "collapsed": false,
    "pycharm": {
     "name": "#%%\n"
    }
   }
  },
  {
   "cell_type": "code",
   "execution_count": 9,
   "outputs": [
    {
     "data": {
      "text/plain": "msno                      object\ncity                       int64\nbd                         int64\ngender                    object\nregistered_via             int64\nregistration_init_time     int64\nexpiration_date            int64\ndtype: object"
     },
     "execution_count": 9,
     "metadata": {},
     "output_type": "execute_result"
    }
   ],
   "source": [
    "dataset_members.dtypes"
   ],
   "metadata": {
    "collapsed": false,
    "pycharm": {
     "name": "#%%\n"
    }
   }
  },
  {
   "cell_type": "markdown",
   "source": [
    "Поменяем важные численные признаки, которые принимают всего по несколько значений, на категориальные"
   ],
   "metadata": {
    "collapsed": false
   }
  },
  {
   "cell_type": "code",
   "execution_count": 10,
   "outputs": [],
   "source": [
    "dataset_members['city'] = dataset_members['city'].astype(str)\n",
    "dataset_members['registered_via'] = dataset_members['registered_via'].astype(str)"
   ],
   "metadata": {
    "collapsed": false,
    "pycharm": {
     "name": "#%%\n"
    }
   }
  },
  {
   "cell_type": "code",
   "execution_count": 11,
   "outputs": [
    {
     "data": {
      "text/plain": "count    34403.000000\nmean        12.280935\nstd         18.170251\nmin        -43.000000\n25%          0.000000\n50%          0.000000\n75%         25.000000\nmax       1051.000000\nName: bd, dtype: float64"
     },
     "execution_count": 11,
     "metadata": {},
     "output_type": "execute_result"
    }
   ],
   "source": [
    "dataset_members['bd'].describe()"
   ],
   "metadata": {
    "collapsed": false,
    "pycharm": {
     "name": "#%%\n"
    }
   }
  },
  {
   "cell_type": "markdown",
   "source": [
    "Возраст имеет огромные выбросы от -43 до 1051, а также огромное количество нулей.\n",
    "Будем считать значение выбросом если оно меньше 7 лет или больше 80.\n",
    "Вместо всех таких выбросов напишем 0, чтобы потом классифицировать их в возрастную группу unknown."
   ],
   "metadata": {
    "collapsed": false
   }
  },
  {
   "cell_type": "code",
   "execution_count": 12,
   "outputs": [
    {
     "data": {
      "text/plain": "unknown    19972\n23-35       7033\n18-23       3286\n35-50       2472\n7-18        1226\n50plus       414\nName: age_group, dtype: int64"
     },
     "execution_count": 12,
     "metadata": {},
     "output_type": "execute_result"
    }
   ],
   "source": [
    "dataset_members['bd'] = dataset_members['bd'].apply(lambda x: 0 if x < 7 or x > 80 else x)\n",
    "\n",
    "age_separators = [-1, 7, 18, 23, 35, 50, np.inf]\n",
    "names = ['unknown', '7-18', '18-23', '23-35', '35-50', '50plus']\n",
    "dataset_members['age_group'] = pd.cut(dataset_members['bd'], age_separators, labels=names)\n",
    "dataset_members['age_group'].value_counts()"
   ],
   "metadata": {
    "collapsed": false,
    "pycharm": {
     "name": "#%%\n"
    }
   }
  },
  {
   "cell_type": "markdown",
   "source": [
    "Выкинем уже ненужные признаки и обьединим dataset_members c общим датасетом."
   ],
   "metadata": {
    "collapsed": false
   }
  },
  {
   "cell_type": "code",
   "execution_count": 13,
   "outputs": [],
   "source": [
    "dataset_members.drop(['bd', 'registration_init_time', 'expiration_date'], axis=1, inplace=True)\n",
    "dataset_train = dataset_train.merge(dataset_members, on='msno', how='left')"
   ],
   "metadata": {
    "collapsed": false,
    "pycharm": {
     "name": "#%%\n"
    }
   }
  },
  {
   "cell_type": "code",
   "execution_count": 14,
   "outputs": [
    {
     "data": {
      "text/plain": "                                        song_id  song_length genre_ids  \\\n0  CXoTN1eb7AI+DntdU1vbcwGRV4SCIDxZu+YD8JP8r4E=       247640       465   \n1  o0kFgae9QtnYgRkVPqLJwa05zIhRlUjfF7O1tDw0ZDU=       197328       444   \n2  DwVvVurfpuz+XPuFvucclVQEyPqcpUkHR0ne1RQzPs0=       231781       465   \n3  dKMBWoZyScdxSkihKG+Vf47nc18N9q4m58+b4e7dSSE=       273554       465   \n4  W3bqWd3T+VeHFzHAUfARgW9AvVRaF4N5Yzm4Mr6Eo/o=       140329       726   \n\n        artist_name                            composer     lyricist  language  \n0  張信哲 (Jeff Chang)                                  董貞          何啟弘       3.0  \n1         BLACKPINK  TEDDY|  FUTURE BOUNCE|  Bekuh BOOM        TEDDY      31.0  \n2      SUPER JUNIOR                                 NaN          NaN      31.0  \n3             S.H.E                                 湯小康          徐世珍       3.0  \n4              貴族精選                         Traditional  Traditional      52.0  ",
      "text/html": "<div>\n<style scoped>\n    .dataframe tbody tr th:only-of-type {\n        vertical-align: middle;\n    }\n\n    .dataframe tbody tr th {\n        vertical-align: top;\n    }\n\n    .dataframe thead th {\n        text-align: right;\n    }\n</style>\n<table border=\"1\" class=\"dataframe\">\n  <thead>\n    <tr style=\"text-align: right;\">\n      <th></th>\n      <th>song_id</th>\n      <th>song_length</th>\n      <th>genre_ids</th>\n      <th>artist_name</th>\n      <th>composer</th>\n      <th>lyricist</th>\n      <th>language</th>\n    </tr>\n  </thead>\n  <tbody>\n    <tr>\n      <th>0</th>\n      <td>CXoTN1eb7AI+DntdU1vbcwGRV4SCIDxZu+YD8JP8r4E=</td>\n      <td>247640</td>\n      <td>465</td>\n      <td>張信哲 (Jeff Chang)</td>\n      <td>董貞</td>\n      <td>何啟弘</td>\n      <td>3.0</td>\n    </tr>\n    <tr>\n      <th>1</th>\n      <td>o0kFgae9QtnYgRkVPqLJwa05zIhRlUjfF7O1tDw0ZDU=</td>\n      <td>197328</td>\n      <td>444</td>\n      <td>BLACKPINK</td>\n      <td>TEDDY|  FUTURE BOUNCE|  Bekuh BOOM</td>\n      <td>TEDDY</td>\n      <td>31.0</td>\n    </tr>\n    <tr>\n      <th>2</th>\n      <td>DwVvVurfpuz+XPuFvucclVQEyPqcpUkHR0ne1RQzPs0=</td>\n      <td>231781</td>\n      <td>465</td>\n      <td>SUPER JUNIOR</td>\n      <td>NaN</td>\n      <td>NaN</td>\n      <td>31.0</td>\n    </tr>\n    <tr>\n      <th>3</th>\n      <td>dKMBWoZyScdxSkihKG+Vf47nc18N9q4m58+b4e7dSSE=</td>\n      <td>273554</td>\n      <td>465</td>\n      <td>S.H.E</td>\n      <td>湯小康</td>\n      <td>徐世珍</td>\n      <td>3.0</td>\n    </tr>\n    <tr>\n      <th>4</th>\n      <td>W3bqWd3T+VeHFzHAUfARgW9AvVRaF4N5Yzm4Mr6Eo/o=</td>\n      <td>140329</td>\n      <td>726</td>\n      <td>貴族精選</td>\n      <td>Traditional</td>\n      <td>Traditional</td>\n      <td>52.0</td>\n    </tr>\n  </tbody>\n</table>\n</div>"
     },
     "execution_count": 14,
     "metadata": {},
     "output_type": "execute_result"
    }
   ],
   "source": [
    "dataset_songs = pd.read_csv(data_path + \"songs.csv\")\n",
    "dataset_songs.head()"
   ],
   "metadata": {
    "collapsed": false,
    "pycharm": {
     "name": "#%%\n"
    }
   }
  },
  {
   "cell_type": "code",
   "execution_count": 15,
   "outputs": [
    {
     "data": {
      "text/plain": "song_id              0\nsong_length          0\ngenre_ids        94116\nartist_name          0\ncomposer       1071354\nlyricist       1945268\nlanguage             1\ndtype: int64"
     },
     "execution_count": 15,
     "metadata": {},
     "output_type": "execute_result"
    }
   ],
   "source": [
    "dataset_songs.isnull().sum(axis=0)"
   ],
   "metadata": {
    "collapsed": false,
    "pycharm": {
     "name": "#%%\n"
    }
   }
  },
  {
   "cell_type": "markdown",
   "source": [
    "Для пропущенных жанров введем значение unknown, а также если в качестве жанра подано сразу несколько чере '|' то будем брать первый."
   ],
   "metadata": {
    "collapsed": false
   }
  },
  {
   "cell_type": "code",
   "execution_count": 16,
   "outputs": [],
   "source": [
    "def cleane_genre(genre):\n",
    "    pos_separator = genre.find('|')\n",
    "    return genre if pos_separator == -1 else genre[:pos_separator]\n",
    "\n",
    "dataset_songs['genre_ids'].fillna('unknown', inplace=True)\n",
    "dataset_songs['genre_ids'] = dataset_songs['genre_ids'].apply(cleane_genre)"
   ],
   "metadata": {
    "collapsed": false,
    "pycharm": {
     "name": "#%%\n"
    }
   }
  },
  {
   "cell_type": "markdown",
   "source": [
    "Будем считать корректную длину песни от 30 секунд до 20 минут, остальные значения заменим медианой"
   ],
   "metadata": {
    "collapsed": false
   }
  },
  {
   "cell_type": "code",
   "execution_count": 17,
   "outputs": [],
   "source": [
    "valid_length = np.logical_and(dataset_songs.song_length >= 0.5 * 60 * 1e3,\n",
    "                              dataset_songs.song_length <= 20 * 60 * 1e3)\n",
    "length_median = np.median(dataset_songs[valid_length].song_length)\n",
    "dataset_songs.loc[~valid_length, 'song_length'] = length_median"
   ],
   "metadata": {
    "collapsed": false,
    "pycharm": {
     "name": "#%%\n"
    }
   }
  },
  {
   "cell_type": "code",
   "execution_count": 18,
   "outputs": [],
   "source": [
    "most_frequent_lang = dataset_songs['language'].mode()[0]\n",
    "dataset_songs['language'] = dataset_songs['language'].fillna(int(most_frequent_lang)).astype(str)"
   ],
   "metadata": {
    "collapsed": false,
    "pycharm": {
     "name": "#%%\n"
    }
   }
  },
  {
   "cell_type": "markdown",
   "source": [
    "Аналогично, как и с пользователями - проверим, что в общем датасете отсутсвуют неизвестные песни, то есть песни которых нет в songs.csv.\n",
    "Оказалось есть совсем немного таких песен, заполним их дефолтными значениями."
   ],
   "metadata": {
    "collapsed": false,
    "pycharm": {
     "name": "#%% md\n"
    }
   }
  },
  {
   "cell_type": "code",
   "execution_count": 19,
   "outputs": [
    {
     "data": {
      "text/plain": "52"
     },
     "execution_count": 19,
     "metadata": {},
     "output_type": "execute_result"
    }
   ],
   "source": [
    "missing_song_ids = set(dataset_train['song_id']) - set(dataset_songs['song_id'])\n",
    "len(missing_song_ids)"
   ],
   "metadata": {
    "collapsed": false,
    "pycharm": {
     "name": "#%%\n"
    }
   }
  },
  {
   "cell_type": "code",
   "execution_count": 20,
   "outputs": [],
   "source": [
    "dataset_songs.drop(['composer', 'lyricist'], axis=1, inplace=True)\n",
    "dataset_train = dataset_train.merge(dataset_songs, on='song_id', how='left')"
   ],
   "metadata": {
    "collapsed": false,
    "pycharm": {
     "name": "#%%\n"
    }
   }
  },
  {
   "cell_type": "code",
   "execution_count": 21,
   "outputs": [
    {
     "data": {
      "text/plain": "                                        song_id             name          isrc\n0  LP7pLJoJFBvyuUwvu+oLzjT+bI+UeBPURCecJsX1jjs=               我們  TWUM71200043\n1  ClazTFnk6r0Bnuie44bocdNMM3rdlrq0bCGAsGUWcHE=  Let Me Love You  QMZSY1600015\n2  u2ja/bZE3zhCGxvbbOB3zOoUjx27u40cf5g09UXMoKQ=              原諒我  TWA530887303\n3  92Fqsy0+p6+RHe2EoLKjHahORHR1Kq1TBJoClW9v+Ts=          Classic  USSM11301446\n4  0QFmz/+rJy1Q56C1DuYqT9hKKqi5TUqx0sN0IwvoHrw=             愛投羅網  TWA471306001",
      "text/html": "<div>\n<style scoped>\n    .dataframe tbody tr th:only-of-type {\n        vertical-align: middle;\n    }\n\n    .dataframe tbody tr th {\n        vertical-align: top;\n    }\n\n    .dataframe thead th {\n        text-align: right;\n    }\n</style>\n<table border=\"1\" class=\"dataframe\">\n  <thead>\n    <tr style=\"text-align: right;\">\n      <th></th>\n      <th>song_id</th>\n      <th>name</th>\n      <th>isrc</th>\n    </tr>\n  </thead>\n  <tbody>\n    <tr>\n      <th>0</th>\n      <td>LP7pLJoJFBvyuUwvu+oLzjT+bI+UeBPURCecJsX1jjs=</td>\n      <td>我們</td>\n      <td>TWUM71200043</td>\n    </tr>\n    <tr>\n      <th>1</th>\n      <td>ClazTFnk6r0Bnuie44bocdNMM3rdlrq0bCGAsGUWcHE=</td>\n      <td>Let Me Love You</td>\n      <td>QMZSY1600015</td>\n    </tr>\n    <tr>\n      <th>2</th>\n      <td>u2ja/bZE3zhCGxvbbOB3zOoUjx27u40cf5g09UXMoKQ=</td>\n      <td>原諒我</td>\n      <td>TWA530887303</td>\n    </tr>\n    <tr>\n      <th>3</th>\n      <td>92Fqsy0+p6+RHe2EoLKjHahORHR1Kq1TBJoClW9v+Ts=</td>\n      <td>Classic</td>\n      <td>USSM11301446</td>\n    </tr>\n    <tr>\n      <th>4</th>\n      <td>0QFmz/+rJy1Q56C1DuYqT9hKKqi5TUqx0sN0IwvoHrw=</td>\n      <td>愛投羅網</td>\n      <td>TWA471306001</td>\n    </tr>\n  </tbody>\n</table>\n</div>"
     },
     "execution_count": 21,
     "metadata": {},
     "output_type": "execute_result"
    }
   ],
   "source": [
    "dataset_extra_songs = pd.read_csv(data_path + \"song_extra_info.csv\")\n",
    "dataset_extra_songs.head()"
   ],
   "metadata": {
    "collapsed": false,
    "pycharm": {
     "name": "#%%\n"
    }
   }
  },
  {
   "cell_type": "code",
   "execution_count": 22,
   "outputs": [
    {
     "data": {
      "text/plain": "song_id         0\nname            2\nisrc       136548\ndtype: int64"
     },
     "execution_count": 22,
     "metadata": {},
     "output_type": "execute_result"
    }
   ],
   "source": [
    "dataset_extra_songs.isnull().sum(axis=0)"
   ],
   "metadata": {
    "collapsed": false,
    "pycharm": {
     "name": "#%%\n"
    }
   }
  },
  {
   "cell_type": "code",
   "execution_count": 23,
   "outputs": [],
   "source": [
    "def parse_year(isrc):\n",
    "    if type(isrc) == str:\n",
    "        year = int(isrc[5:7])\n",
    "        return 1900 + year if year > 21 else 2000 + year\n",
    "    else:\n",
    "        return np.nan\n",
    "\n",
    "dataset_extra_songs['song_year'] = dataset_extra_songs['isrc'].apply(parse_year)"
   ],
   "metadata": {
    "collapsed": false,
    "pycharm": {
     "name": "#%%\n"
    }
   }
  },
  {
   "cell_type": "code",
   "execution_count": 24,
   "outputs": [],
   "source": [
    "dataset_extra_songs.drop(['name', 'isrc'], axis=1, inplace=True)\n",
    "dataset_train = dataset_train.merge(dataset_extra_songs, on='song_id', how='left')"
   ],
   "metadata": {
    "collapsed": false,
    "pycharm": {
     "name": "#%%\n"
    }
   }
  },
  {
   "cell_type": "code",
   "execution_count": 25,
   "outputs": [
    {
     "data": {
      "text/plain": "msno                       0\nsong_id                    0\nsource_system_tab          0\nsource_screen_name         0\nsource_type                0\ntarget                     0\ncity                       0\ngender                     0\nregistered_via             0\nage_group                  0\nsong_length              114\ngenre_ids                114\nartist_name              114\nlanguage                 114\nsong_year             577858\ndtype: int64"
     },
     "execution_count": 25,
     "metadata": {},
     "output_type": "execute_result"
    }
   ],
   "source": [
    "dataset_train.isnull().sum(axis=0)"
   ],
   "metadata": {
    "collapsed": false,
    "pycharm": {
     "name": "#%%\n"
    }
   }
  },
  {
   "cell_type": "markdown",
   "source": [
    "Остались только пропущенные значения, которые получились при слиянии датасетов, тк не все song_ids были в songs.csv и extra_songs.csv"
   ],
   "metadata": {
    "collapsed": false
   }
  },
  {
   "cell_type": "code",
   "execution_count": 26,
   "outputs": [],
   "source": [
    "dataset_train['song_length'].fillna(length_median, inplace=True)\n",
    "dataset_train['genre_ids'].fillna(dataset_train['genre_ids'].mode()[0], inplace=True)\n",
    "dataset_train['artist_name'].fillna('unknown', inplace=True)\n",
    "dataset_train['language'].fillna(str(most_frequent_lang), inplace=True)\n",
    "dataset_train['song_year'].fillna(int(dataset_train['song_year'].mean()), inplace=True)"
   ],
   "metadata": {
    "collapsed": false,
    "pycharm": {
     "name": "#%%\n"
    }
   }
  },
  {
   "cell_type": "markdown",
   "source": [
    "Добавим еще новые признаки, счетчики количества прослушиваний для пользователя, песни и жанра"
   ],
   "metadata": {
    "collapsed": false
   }
  },
  {
   "cell_type": "code",
   "execution_count": 27,
   "outputs": [],
   "source": [
    "dataset_train['member_counts'] = dataset_train.groupby('msno')['msno'].transform('count')\n",
    "dataset_train['song_counts'] = dataset_train.groupby('song_id')['song_id'].transform('count')\n",
    "dataset_train['genre_counts'] = dataset_train.groupby('genre_ids')['genre_ids'].transform('count')"
   ],
   "metadata": {
    "collapsed": false,
    "pycharm": {
     "name": "#%%\n"
    }
   }
  },
  {
   "cell_type": "markdown",
   "source": [
    "Еще добавим счетчики по истории прослушивания определенного жанра и артиста,\n",
    "мы сможем так сделать пользуясь индексом в датасете, тк датасет сделан по времени"
   ],
   "metadata": {
    "collapsed": false,
    "pycharm": {
     "name": "#%% md\n"
    }
   }
  },
  {
   "cell_type": "code",
   "execution_count": 28,
   "outputs": [],
   "source": [
    "dataset_train['tmp_index']  = dataset_train.index\n",
    "dataset_train['tmp_msno+artist']  = dataset_train['msno'].astype(str) + \"+\" + dataset_train['artist_name'].astype(str)\n",
    "dataset_train['tmp_msno+genre']  = dataset_train['msno'].astype(str) + \"+\" + dataset_train['genre_ids'].astype(str)\n",
    "\n",
    "dataset_train['history_artist'] = (dataset_train.groupby('tmp_msno+artist').tmp_index.rank(method='min') - 1).astype(int)\n",
    "dataset_train['history_genre'] = (dataset_train.groupby('tmp_msno+genre').tmp_index.rank(method='min') - 1).astype(int)"
   ],
   "metadata": {
    "collapsed": false,
    "pycharm": {
     "name": "#%%\n"
    }
   }
  },
  {
   "cell_type": "code",
   "execution_count": 29,
   "outputs": [],
   "source": [
    "y = dataset_train['target']\n",
    "dataset_train.drop(['tmp_index', 'tmp_msno+artist', 'tmp_msno+genre', 'msno', 'song_id', 'target', 'artist_name'], axis=1, inplace=True)"
   ],
   "metadata": {
    "collapsed": false,
    "pycharm": {
     "name": "#%%\n"
    }
   }
  },
  {
   "cell_type": "code",
   "execution_count": 30,
   "outputs": [
    {
     "data": {
      "text/plain": "source_system_tab     category\nsource_screen_name    category\nsource_type           category\ncity                  category\ngender                category\nregistered_via        category\nage_group             category\nsong_length            float64\ngenre_ids             category\nlanguage              category\nsong_year              float64\nmember_counts            int64\nsong_counts              int64\ngenre_counts             int64\nhistory_artist           int64\nhistory_genre            int64\ndtype: object"
     },
     "execution_count": 30,
     "metadata": {},
     "output_type": "execute_result"
    }
   ],
   "source": [
    "for col in dataset_train.select_dtypes(include=['object']).columns:\n",
    "    dataset_train[col] = dataset_train[col].astype('category')\n",
    "\n",
    "dataset_train.dtypes"
   ],
   "metadata": {
    "collapsed": false,
    "pycharm": {
     "name": "#%%\n"
    }
   }
  },
  {
   "cell_type": "code",
   "execution_count": 31,
   "outputs": [],
   "source": [
    "cat_features = dataset_train.dtypes[dataset_train.dtypes == \"category\"].index.to_list()\n",
    "pool = Pool(data=dataset_train, label=y, cat_features=cat_features, has_header=True)"
   ],
   "metadata": {
    "collapsed": false,
    "pycharm": {
     "name": "#%%\n"
    }
   }
  },
  {
   "cell_type": "code",
   "execution_count": 32,
   "outputs": [
    {
     "name": "stdout",
     "output_type": "stream",
     "text": [
      "\n",
      "bestTest = 0.6828918292\n",
      "bestIteration = 99\n",
      "\n",
      "0:\tloss: 0.6828918\tbest: 0.6828918 (0)\ttotal: 2m 31s\tremaining: 42m 51s\n",
      "\n",
      "bestTest = 0.6421391218\n",
      "bestIteration = 99\n",
      "\n",
      "1:\tloss: 0.6421391\tbest: 0.6421391 (1)\ttotal: 4m 53s\tremaining: 39m 10s\n",
      "\n",
      "bestTest = 0.6204568005\n",
      "bestIteration = 99\n",
      "\n",
      "2:\tloss: 0.6204568\tbest: 0.6204568 (2)\ttotal: 7m 17s\tremaining: 36m 27s\n",
      "\n",
      "bestTest = 0.6828888628\n",
      "bestIteration = 99\n",
      "\n",
      "3:\tloss: 0.6828889\tbest: 0.6204568 (2)\ttotal: 9m 34s\tremaining: 33m 29s\n",
      "\n",
      "bestTest = 0.6420916545\n",
      "bestIteration = 99\n",
      "\n",
      "4:\tloss: 0.6420917\tbest: 0.6204568 (2)\ttotal: 11m 49s\tremaining: 30m 43s\n",
      "\n",
      "bestTest = 0.6203237634\n",
      "bestIteration = 99\n",
      "\n",
      "5:\tloss: 0.6203238\tbest: 0.6203238 (5)\ttotal: 14m 16s\tremaining: 28m 32s\n",
      "\n",
      "bestTest = 0.682894078\n",
      "bestIteration = 99\n",
      "\n",
      "6:\tloss: 0.6828941\tbest: 0.6203238 (5)\ttotal: 16m 34s\tremaining: 26m 2s\n",
      "\n",
      "bestTest = 0.6421556046\n",
      "bestIteration = 99\n",
      "\n",
      "7:\tloss: 0.6421556\tbest: 0.6203238 (5)\ttotal: 18m 50s\tremaining: 23m 33s\n",
      "\n",
      "bestTest = 0.6203333501\n",
      "bestIteration = 99\n",
      "\n",
      "8:\tloss: 0.6203334\tbest: 0.6203238 (5)\ttotal: 21m 19s\tremaining: 21m 19s\n",
      "\n",
      "bestTest = 0.6818770025\n",
      "bestIteration = 99\n",
      "\n",
      "9:\tloss: 0.6818770\tbest: 0.6203238 (5)\ttotal: 24m 45s\tremaining: 19m 48s\n",
      "\n",
      "bestTest = 0.6377721975\n",
      "bestIteration = 99\n",
      "\n",
      "10:\tloss: 0.6377722\tbest: 0.6203238 (5)\ttotal: 28m 12s\tremaining: 17m 57s\n",
      "\n",
      "bestTest = 0.6142301565\n",
      "bestIteration = 99\n",
      "\n",
      "11:\tloss: 0.6142302\tbest: 0.6142302 (11)\ttotal: 31m 54s\tremaining: 15m 57s\n",
      "\n",
      "bestTest = 0.6818818089\n",
      "bestIteration = 99\n",
      "\n",
      "12:\tloss: 0.6818818\tbest: 0.6142302 (11)\ttotal: 35m 26s\tremaining: 13m 38s\n",
      "\n",
      "bestTest = 0.637756559\n",
      "bestIteration = 99\n",
      "\n",
      "13:\tloss: 0.6377566\tbest: 0.6142302 (11)\ttotal: 38m 57s\tremaining: 11m 7s\n",
      "\n",
      "bestTest = 0.6143758398\n",
      "bestIteration = 99\n",
      "\n",
      "14:\tloss: 0.6143758\tbest: 0.6142302 (11)\ttotal: 42m 41s\tremaining: 8m 32s\n",
      "\n",
      "bestTest = 0.6818886454\n",
      "bestIteration = 99\n",
      "\n",
      "15:\tloss: 0.6818886\tbest: 0.6142302 (11)\ttotal: 46m 14s\tremaining: 5m 46s\n",
      "\n",
      "bestTest = 0.6377463066\n",
      "bestIteration = 99\n",
      "\n",
      "16:\tloss: 0.6377463\tbest: 0.6142302 (11)\ttotal: 49m 46s\tremaining: 2m 55s\n",
      "\n",
      "bestTest = 0.6143196986\n",
      "bestIteration = 99\n",
      "\n",
      "17:\tloss: 0.6143197\tbest: 0.6142302 (11)\ttotal: 53m 31s\tremaining: 0us\n",
      "Estimating final quality...\n"
     ]
    }
   ],
   "source": [
    "\n",
    "model = CatBoostClassifier(loss_function='CrossEntropy', iterations=100)\n",
    "param_grid = {'learning_rate': [0.001, 0.01, 0.1],\n",
    "              'l2_leaf_reg': [0.01, 1.0, 3.0],\n",
    "              'depth': [6, 10]}\n",
    "grid_search_result = model.grid_search(param_grid, pool)"
   ],
   "metadata": {
    "collapsed": false,
    "pycharm": {
     "name": "#%%\n"
    }
   }
  },
  {
   "cell_type": "code",
   "execution_count": 33,
   "outputs": [
    {
     "data": {
      "text/plain": "{'depth': 10, 'learning_rate': 0.1, 'l2_leaf_reg': 0.01}"
     },
     "execution_count": 33,
     "metadata": {},
     "output_type": "execute_result"
    }
   ],
   "source": [
    "best_params = grid_search_result['params']\n",
    "best_params"
   ],
   "metadata": {
    "collapsed": false,
    "pycharm": {
     "name": "#%%\n"
    }
   }
  },
  {
   "cell_type": "code",
   "execution_count": 34,
   "outputs": [
    {
     "name": "stdout",
     "output_type": "stream",
     "text": [
      "0:\tlearn: 0.6815070\ttest: 0.6815085\tbest: 0.6815085 (0)\ttotal: 26.1s\tremaining: 43m 1s\n",
      "1:\tlearn: 0.6719396\ttest: 0.6719487\tbest: 0.6719487 (1)\ttotal: 50.1s\tremaining: 40m 54s\n",
      "2:\tlearn: 0.6641735\ttest: 0.6641890\tbest: 0.6641890 (2)\ttotal: 1m 8s\tremaining: 36m 55s\n",
      "3:\tlearn: 0.6578640\ttest: 0.6578824\tbest: 0.6578824 (3)\ttotal: 1m 32s\tremaining: 36m 56s\n",
      "4:\tlearn: 0.6527108\ttest: 0.6527333\tbest: 0.6527333 (4)\ttotal: 1m 51s\tremaining: 35m 12s\n",
      "5:\tlearn: 0.6484704\ttest: 0.6484957\tbest: 0.6484957 (5)\ttotal: 2m 13s\tremaining: 34m 47s\n",
      "6:\tlearn: 0.6449836\ttest: 0.6450127\tbest: 0.6450127 (6)\ttotal: 2m 36s\tremaining: 34m 38s\n",
      "7:\tlearn: 0.6420084\ttest: 0.6420429\tbest: 0.6420429 (7)\ttotal: 2m 57s\tremaining: 33m 57s\n",
      "8:\tlearn: 0.6394849\ttest: 0.6395233\tbest: 0.6395233 (8)\ttotal: 3m 14s\tremaining: 32m 48s\n",
      "9:\tlearn: 0.6372381\ttest: 0.6372828\tbest: 0.6372828 (9)\ttotal: 3m 37s\tremaining: 32m 36s\n",
      "10:\tlearn: 0.6353549\ttest: 0.6354043\tbest: 0.6354043 (10)\ttotal: 3m 59s\tremaining: 32m 20s\n",
      "11:\tlearn: 0.6337721\ttest: 0.6338289\tbest: 0.6338289 (11)\ttotal: 4m 20s\tremaining: 31m 49s\n",
      "12:\tlearn: 0.6324228\ttest: 0.6324822\tbest: 0.6324822 (12)\ttotal: 4m 43s\tremaining: 31m 36s\n",
      "13:\tlearn: 0.6312059\ttest: 0.6312723\tbest: 0.6312723 (13)\ttotal: 5m 11s\tremaining: 31m 56s\n",
      "14:\tlearn: 0.6301569\ttest: 0.6302299\tbest: 0.6302299 (14)\ttotal: 5m 36s\tremaining: 31m 45s\n",
      "15:\tlearn: 0.6292399\ttest: 0.6293155\tbest: 0.6293155 (15)\ttotal: 5m 59s\tremaining: 31m 25s\n",
      "16:\tlearn: 0.6284609\ttest: 0.6285483\tbest: 0.6285483 (16)\ttotal: 6m 24s\tremaining: 31m 17s\n",
      "17:\tlearn: 0.6277532\ttest: 0.6278436\tbest: 0.6278436 (17)\ttotal: 6m 46s\tremaining: 30m 52s\n",
      "18:\tlearn: 0.6271563\ttest: 0.6272503\tbest: 0.6272503 (18)\ttotal: 7m 6s\tremaining: 30m 19s\n",
      "19:\tlearn: 0.6265595\ttest: 0.6266585\tbest: 0.6266585 (19)\ttotal: 7m 28s\tremaining: 29m 55s\n",
      "20:\tlearn: 0.6260353\ttest: 0.6261445\tbest: 0.6261445 (20)\ttotal: 7m 48s\tremaining: 29m 23s\n",
      "21:\tlearn: 0.6255659\ttest: 0.6256826\tbest: 0.6256826 (21)\ttotal: 8m 7s\tremaining: 28m 49s\n",
      "22:\tlearn: 0.6251002\ttest: 0.6252314\tbest: 0.6252314 (22)\ttotal: 8m 28s\tremaining: 28m 23s\n",
      "23:\tlearn: 0.6246917\ttest: 0.6248311\tbest: 0.6248311 (23)\ttotal: 8m 46s\tremaining: 27m 48s\n",
      "24:\tlearn: 0.6243152\ttest: 0.6244673\tbest: 0.6244673 (24)\ttotal: 9m 3s\tremaining: 27m 10s\n",
      "25:\tlearn: 0.6239688\ttest: 0.6241279\tbest: 0.6241279 (25)\ttotal: 9m 22s\tremaining: 26m 41s\n",
      "26:\tlearn: 0.6236337\ttest: 0.6238061\tbest: 0.6238061 (26)\ttotal: 9m 39s\tremaining: 26m 6s\n",
      "27:\tlearn: 0.6233175\ttest: 0.6234984\tbest: 0.6234984 (27)\ttotal: 9m 55s\tremaining: 25m 32s\n",
      "28:\tlearn: 0.6230274\ttest: 0.6232166\tbest: 0.6232166 (28)\ttotal: 10m 13s\tremaining: 25m 2s\n",
      "29:\tlearn: 0.6227603\ttest: 0.6229620\tbest: 0.6229620 (29)\ttotal: 10m 30s\tremaining: 24m 30s\n",
      "30:\tlearn: 0.6224884\ttest: 0.6227014\tbest: 0.6227014 (30)\ttotal: 10m 51s\tremaining: 24m 10s\n",
      "31:\tlearn: 0.6222177\ttest: 0.6224444\tbest: 0.6224444 (31)\ttotal: 11m 9s\tremaining: 23m 43s\n",
      "32:\tlearn: 0.6219752\ttest: 0.6222113\tbest: 0.6222113 (32)\ttotal: 11m 28s\tremaining: 23m 18s\n",
      "33:\tlearn: 0.6217550\ttest: 0.6219990\tbest: 0.6219990 (33)\ttotal: 11m 51s\tremaining: 23m 2s\n",
      "34:\tlearn: 0.6215505\ttest: 0.6218024\tbest: 0.6218024 (34)\ttotal: 12m 16s\tremaining: 22m 46s\n",
      "35:\tlearn: 0.6213485\ttest: 0.6216104\tbest: 0.6216104 (35)\ttotal: 12m 35s\tremaining: 22m 23s\n",
      "36:\tlearn: 0.6211440\ttest: 0.6214187\tbest: 0.6214187 (36)\ttotal: 12m 53s\tremaining: 21m 57s\n",
      "37:\tlearn: 0.6209365\ttest: 0.6212207\tbest: 0.6212207 (37)\ttotal: 13m 12s\tremaining: 21m 33s\n",
      "38:\tlearn: 0.6207527\ttest: 0.6210476\tbest: 0.6210476 (38)\ttotal: 13m 32s\tremaining: 21m 11s\n",
      "39:\tlearn: 0.6205677\ttest: 0.6208758\tbest: 0.6208758 (39)\ttotal: 13m 54s\tremaining: 20m 52s\n",
      "40:\tlearn: 0.6204089\ttest: 0.6207251\tbest: 0.6207251 (40)\ttotal: 14m 12s\tremaining: 20m 26s\n",
      "41:\tlearn: 0.6202403\ttest: 0.6205699\tbest: 0.6205699 (41)\ttotal: 14m 34s\tremaining: 20m 7s\n",
      "42:\tlearn: 0.6200666\ttest: 0.6204088\tbest: 0.6204088 (42)\ttotal: 14m 54s\tremaining: 19m 46s\n",
      "43:\tlearn: 0.6199084\ttest: 0.6202634\tbest: 0.6202634 (43)\ttotal: 15m 13s\tremaining: 19m 22s\n",
      "44:\tlearn: 0.6197348\ttest: 0.6201010\tbest: 0.6201010 (44)\ttotal: 15m 31s\tremaining: 18m 58s\n",
      "45:\tlearn: 0.6195810\ttest: 0.6199550\tbest: 0.6199550 (45)\ttotal: 15m 49s\tremaining: 18m 34s\n",
      "46:\tlearn: 0.6194332\ttest: 0.6198166\tbest: 0.6198166 (46)\ttotal: 16m 8s\tremaining: 18m 12s\n",
      "47:\tlearn: 0.6192449\ttest: 0.6196371\tbest: 0.6196371 (47)\ttotal: 16m 25s\tremaining: 17m 47s\n",
      "48:\tlearn: 0.6191131\ttest: 0.6195130\tbest: 0.6195130 (48)\ttotal: 16m 42s\tremaining: 17m 23s\n",
      "49:\tlearn: 0.6189504\ttest: 0.6193620\tbest: 0.6193620 (49)\ttotal: 17m 7s\tremaining: 17m 7s\n",
      "50:\tlearn: 0.6188241\ttest: 0.6192452\tbest: 0.6192452 (50)\ttotal: 17m 26s\tremaining: 16m 45s\n",
      "51:\tlearn: 0.6186717\ttest: 0.6191049\tbest: 0.6191049 (51)\ttotal: 17m 43s\tremaining: 16m 21s\n",
      "52:\tlearn: 0.6185443\ttest: 0.6189872\tbest: 0.6189872 (52)\ttotal: 18m 4s\tremaining: 16m 1s\n",
      "53:\tlearn: 0.6183992\ttest: 0.6188560\tbest: 0.6188560 (53)\ttotal: 18m 23s\tremaining: 15m 39s\n",
      "54:\tlearn: 0.6182521\ttest: 0.6187185\tbest: 0.6187185 (54)\ttotal: 18m 43s\tremaining: 15m 19s\n",
      "55:\tlearn: 0.6181293\ttest: 0.6186062\tbest: 0.6186062 (55)\ttotal: 19m 2s\tremaining: 14m 57s\n",
      "56:\tlearn: 0.6179725\ttest: 0.6184595\tbest: 0.6184595 (56)\ttotal: 19m 20s\tremaining: 14m 35s\n",
      "57:\tlearn: 0.6178371\ttest: 0.6183332\tbest: 0.6183332 (57)\ttotal: 19m 41s\tremaining: 14m 15s\n",
      "58:\tlearn: 0.6176750\ttest: 0.6181843\tbest: 0.6181843 (58)\ttotal: 20m 8s\tremaining: 13m 59s\n",
      "59:\tlearn: 0.6175450\ttest: 0.6180659\tbest: 0.6180659 (59)\ttotal: 20m 29s\tremaining: 13m 39s\n",
      "60:\tlearn: 0.6174271\ttest: 0.6179585\tbest: 0.6179585 (60)\ttotal: 20m 53s\tremaining: 13m 21s\n",
      "61:\tlearn: 0.6173313\ttest: 0.6178724\tbest: 0.6178724 (61)\ttotal: 21m 14s\tremaining: 13m 1s\n",
      "62:\tlearn: 0.6172288\ttest: 0.6177821\tbest: 0.6177821 (62)\ttotal: 21m 36s\tremaining: 12m 41s\n",
      "63:\tlearn: 0.6171098\ttest: 0.6176717\tbest: 0.6176717 (63)\ttotal: 21m 58s\tremaining: 12m 21s\n",
      "64:\tlearn: 0.6169912\ttest: 0.6175630\tbest: 0.6175630 (64)\ttotal: 22m 18s\tremaining: 12m\n",
      "65:\tlearn: 0.6168676\ttest: 0.6174483\tbest: 0.6174483 (65)\ttotal: 22m 39s\tremaining: 11m 40s\n",
      "66:\tlearn: 0.6167243\ttest: 0.6173127\tbest: 0.6173127 (66)\ttotal: 22m 58s\tremaining: 11m 19s\n",
      "67:\tlearn: 0.6166079\ttest: 0.6172101\tbest: 0.6172101 (67)\ttotal: 23m 23s\tremaining: 11m\n",
      "68:\tlearn: 0.6164869\ttest: 0.6170906\tbest: 0.6170906 (68)\ttotal: 23m 46s\tremaining: 10m 40s\n",
      "69:\tlearn: 0.6163957\ttest: 0.6170136\tbest: 0.6170136 (69)\ttotal: 24m 9s\tremaining: 10m 21s\n",
      "70:\tlearn: 0.6162855\ttest: 0.6169160\tbest: 0.6169160 (70)\ttotal: 24m 31s\tremaining: 10m 1s\n",
      "71:\tlearn: 0.6161691\ttest: 0.6168117\tbest: 0.6168117 (71)\ttotal: 24m 51s\tremaining: 9m 40s\n",
      "72:\tlearn: 0.6160853\ttest: 0.6167365\tbest: 0.6167365 (72)\ttotal: 25m 9s\tremaining: 9m 18s\n",
      "73:\tlearn: 0.6159891\ttest: 0.6166513\tbest: 0.6166513 (73)\ttotal: 25m 29s\tremaining: 8m 57s\n",
      "74:\tlearn: 0.6158672\ttest: 0.6165375\tbest: 0.6165375 (74)\ttotal: 25m 50s\tremaining: 8m 36s\n",
      "75:\tlearn: 0.6157735\ttest: 0.6164590\tbest: 0.6164590 (75)\ttotal: 26m 11s\tremaining: 8m 16s\n",
      "76:\tlearn: 0.6157000\ttest: 0.6163914\tbest: 0.6163914 (76)\ttotal: 26m 30s\tremaining: 7m 55s\n",
      "77:\tlearn: 0.6156137\ttest: 0.6163154\tbest: 0.6163154 (77)\ttotal: 26m 49s\tremaining: 7m 33s\n",
      "78:\tlearn: 0.6155101\ttest: 0.6162216\tbest: 0.6162216 (78)\ttotal: 27m 10s\tremaining: 7m 13s\n",
      "79:\tlearn: 0.6154091\ttest: 0.6161265\tbest: 0.6161265 (79)\ttotal: 27m 31s\tremaining: 6m 52s\n",
      "80:\tlearn: 0.6153283\ttest: 0.6160550\tbest: 0.6160550 (80)\ttotal: 27m 52s\tremaining: 6m 32s\n",
      "81:\tlearn: 0.6152388\ttest: 0.6159767\tbest: 0.6159767 (81)\ttotal: 28m 14s\tremaining: 6m 12s\n",
      "82:\tlearn: 0.6151536\ttest: 0.6159029\tbest: 0.6159029 (82)\ttotal: 28m 33s\tremaining: 5m 51s\n",
      "83:\tlearn: 0.6150830\ttest: 0.6158419\tbest: 0.6158419 (83)\ttotal: 28m 54s\tremaining: 5m 30s\n",
      "84:\tlearn: 0.6149864\ttest: 0.6157566\tbest: 0.6157566 (84)\ttotal: 29m 14s\tremaining: 5m 9s\n",
      "85:\tlearn: 0.6148794\ttest: 0.6156600\tbest: 0.6156600 (85)\ttotal: 29m 35s\tremaining: 4m 49s\n",
      "86:\tlearn: 0.6147832\ttest: 0.6155723\tbest: 0.6155723 (86)\ttotal: 29m 54s\tremaining: 4m 28s\n",
      "87:\tlearn: 0.6146926\ttest: 0.6154877\tbest: 0.6154877 (87)\ttotal: 30m 12s\tremaining: 4m 7s\n",
      "88:\tlearn: 0.6145992\ttest: 0.6154046\tbest: 0.6154046 (88)\ttotal: 30m 31s\tremaining: 3m 46s\n",
      "89:\tlearn: 0.6145018\ttest: 0.6153150\tbest: 0.6153150 (89)\ttotal: 30m 49s\tremaining: 3m 25s\n",
      "90:\tlearn: 0.6144231\ttest: 0.6152495\tbest: 0.6152495 (90)\ttotal: 31m 8s\tremaining: 3m 4s\n",
      "91:\tlearn: 0.6143580\ttest: 0.6151900\tbest: 0.6151900 (91)\ttotal: 31m 32s\tremaining: 2m 44s\n",
      "92:\tlearn: 0.6142654\ttest: 0.6151065\tbest: 0.6151065 (92)\ttotal: 31m 52s\tremaining: 2m 23s\n",
      "93:\tlearn: 0.6141464\ttest: 0.6149961\tbest: 0.6149961 (93)\ttotal: 32m 16s\tremaining: 2m 3s\n",
      "94:\tlearn: 0.6140810\ttest: 0.6149383\tbest: 0.6149383 (94)\ttotal: 32m 43s\tremaining: 1m 43s\n",
      "95:\tlearn: 0.6139823\ttest: 0.6148500\tbest: 0.6148500 (95)\ttotal: 33m 5s\tremaining: 1m 22s\n",
      "96:\tlearn: 0.6138888\ttest: 0.6147647\tbest: 0.6147647 (96)\ttotal: 33m 25s\tremaining: 1m 2s\n",
      "97:\tlearn: 0.6137913\ttest: 0.6146790\tbest: 0.6146790 (97)\ttotal: 33m 44s\tremaining: 41.3s\n",
      "98:\tlearn: 0.6137268\ttest: 0.6146263\tbest: 0.6146263 (98)\ttotal: 34m 6s\tremaining: 20.7s\n",
      "99:\tlearn: 0.6136525\ttest: 0.6145616\tbest: 0.6145616 (99)\ttotal: 34m 22s\tremaining: 0us\n"
     ]
    },
    {
     "data": {
      "text/plain": "    iterations  test-CrossEntropy-mean  test-CrossEntropy-std  \\\n0            0                0.681509               0.000017   \n1            1                0.671949               0.000058   \n2            2                0.664189               0.000077   \n3            3                0.657882               0.000100   \n4            4                0.652733               0.000133   \n..         ...                     ...                    ...   \n95          95                0.614850               0.000421   \n96          96                0.614765               0.000432   \n97          97                0.614679               0.000447   \n98          98                0.614626               0.000445   \n99          99                0.614562               0.000446   \n\n    train-CrossEntropy-mean  train-CrossEntropy-std  test-AUC-mean  \\\n0                  0.681507                0.000022       0.690077   \n1                  0.671940                0.000048       0.695114   \n2                  0.664174                0.000032       0.696318   \n3                  0.657864                0.000079       0.697177   \n4                  0.652711                0.000112       0.697873   \n..                      ...                     ...            ...   \n95                 0.613982                0.000164       0.720220   \n96                 0.613889                0.000176       0.720336   \n97                 0.613791                0.000182       0.720454   \n98                 0.613727                0.000186       0.720522   \n99                 0.613653                0.000178       0.720609   \n\n    test-AUC-std  \n0       0.000612  \n1       0.000838  \n2       0.000572  \n3       0.000857  \n4       0.000882  \n..           ...  \n95      0.000638  \n96      0.000653  \n97      0.000673  \n98      0.000665  \n99      0.000669  \n\n[100 rows x 7 columns]",
      "text/html": "<div>\n<style scoped>\n    .dataframe tbody tr th:only-of-type {\n        vertical-align: middle;\n    }\n\n    .dataframe tbody tr th {\n        vertical-align: top;\n    }\n\n    .dataframe thead th {\n        text-align: right;\n    }\n</style>\n<table border=\"1\" class=\"dataframe\">\n  <thead>\n    <tr style=\"text-align: right;\">\n      <th></th>\n      <th>iterations</th>\n      <th>test-CrossEntropy-mean</th>\n      <th>test-CrossEntropy-std</th>\n      <th>train-CrossEntropy-mean</th>\n      <th>train-CrossEntropy-std</th>\n      <th>test-AUC-mean</th>\n      <th>test-AUC-std</th>\n    </tr>\n  </thead>\n  <tbody>\n    <tr>\n      <th>0</th>\n      <td>0</td>\n      <td>0.681509</td>\n      <td>0.000017</td>\n      <td>0.681507</td>\n      <td>0.000022</td>\n      <td>0.690077</td>\n      <td>0.000612</td>\n    </tr>\n    <tr>\n      <th>1</th>\n      <td>1</td>\n      <td>0.671949</td>\n      <td>0.000058</td>\n      <td>0.671940</td>\n      <td>0.000048</td>\n      <td>0.695114</td>\n      <td>0.000838</td>\n    </tr>\n    <tr>\n      <th>2</th>\n      <td>2</td>\n      <td>0.664189</td>\n      <td>0.000077</td>\n      <td>0.664174</td>\n      <td>0.000032</td>\n      <td>0.696318</td>\n      <td>0.000572</td>\n    </tr>\n    <tr>\n      <th>3</th>\n      <td>3</td>\n      <td>0.657882</td>\n      <td>0.000100</td>\n      <td>0.657864</td>\n      <td>0.000079</td>\n      <td>0.697177</td>\n      <td>0.000857</td>\n    </tr>\n    <tr>\n      <th>4</th>\n      <td>4</td>\n      <td>0.652733</td>\n      <td>0.000133</td>\n      <td>0.652711</td>\n      <td>0.000112</td>\n      <td>0.697873</td>\n      <td>0.000882</td>\n    </tr>\n    <tr>\n      <th>...</th>\n      <td>...</td>\n      <td>...</td>\n      <td>...</td>\n      <td>...</td>\n      <td>...</td>\n      <td>...</td>\n      <td>...</td>\n    </tr>\n    <tr>\n      <th>95</th>\n      <td>95</td>\n      <td>0.614850</td>\n      <td>0.000421</td>\n      <td>0.613982</td>\n      <td>0.000164</td>\n      <td>0.720220</td>\n      <td>0.000638</td>\n    </tr>\n    <tr>\n      <th>96</th>\n      <td>96</td>\n      <td>0.614765</td>\n      <td>0.000432</td>\n      <td>0.613889</td>\n      <td>0.000176</td>\n      <td>0.720336</td>\n      <td>0.000653</td>\n    </tr>\n    <tr>\n      <th>97</th>\n      <td>97</td>\n      <td>0.614679</td>\n      <td>0.000447</td>\n      <td>0.613791</td>\n      <td>0.000182</td>\n      <td>0.720454</td>\n      <td>0.000673</td>\n    </tr>\n    <tr>\n      <th>98</th>\n      <td>98</td>\n      <td>0.614626</td>\n      <td>0.000445</td>\n      <td>0.613727</td>\n      <td>0.000186</td>\n      <td>0.720522</td>\n      <td>0.000665</td>\n    </tr>\n    <tr>\n      <th>99</th>\n      <td>99</td>\n      <td>0.614562</td>\n      <td>0.000446</td>\n      <td>0.613653</td>\n      <td>0.000178</td>\n      <td>0.720609</td>\n      <td>0.000669</td>\n    </tr>\n  </tbody>\n</table>\n<p>100 rows × 7 columns</p>\n</div>"
     },
     "execution_count": 34,
     "metadata": {},
     "output_type": "execute_result"
    }
   ],
   "source": [
    "#best_params = {'depth': 10, 'learning_rate': 0.1, 'l2_leaf_reg': 1.0}\n",
    "best_params.update({\n",
    "    'loss_function': 'CrossEntropy',\n",
    "    'iterations': 100,\n",
    "    'custom_loss': 'AUC'\n",
    "})\n",
    "\n",
    "cv_data = cv(params = best_params, pool = pool, fold_count = 5)\n",
    "cv_data"
   ],
   "metadata": {
    "collapsed": false,
    "pycharm": {
     "name": "#%%\n"
    }
   }
  },
  {
   "cell_type": "markdown",
   "source": [
    "Итого AUC на 5-fold получился:"
   ],
   "metadata": {
    "collapsed": false,
    "pycharm": {
     "name": "#%% md\n"
    }
   }
  },
  {
   "cell_type": "code",
   "execution_count": 35,
   "outputs": [
    {
     "data": {
      "text/plain": "0.7206086902679663"
     },
     "execution_count": 35,
     "metadata": {},
     "output_type": "execute_result"
    }
   ],
   "source": [
    "cv_data.iloc[-1]['test-AUC-mean']"
   ],
   "metadata": {
    "collapsed": false,
    "pycharm": {
     "name": "#%%\n"
    }
   }
  },
  {
   "cell_type": "markdown",
   "source": [
    "## Построим эмбенддинги"
   ],
   "metadata": {
    "collapsed": false,
    "pycharm": {
     "name": "#%% md\n"
    }
   }
  },
  {
   "cell_type": "code",
   "execution_count": 36,
   "outputs": [],
   "source": [
    "import multiprocessing\n",
    "from gensim.models import Word2Vec"
   ],
   "metadata": {
    "collapsed": false,
    "pycharm": {
     "name": "#%%\n"
    }
   }
  },
  {
   "cell_type": "code",
   "execution_count": 37,
   "outputs": [
    {
     "data": {
      "text/plain": "                                              song_id  song_length genre_ids  \\\n0        CXoTN1eb7AI+DntdU1vbcwGRV4SCIDxZu+YD8JP8r4E=       247640       465   \n1        o0kFgae9QtnYgRkVPqLJwa05zIhRlUjfF7O1tDw0ZDU=       197328       444   \n2        DwVvVurfpuz+XPuFvucclVQEyPqcpUkHR0ne1RQzPs0=       231781       465   \n3        dKMBWoZyScdxSkihKG+Vf47nc18N9q4m58+b4e7dSSE=       273554       465   \n4        W3bqWd3T+VeHFzHAUfARgW9AvVRaF4N5Yzm4Mr6Eo/o=       140329       726   \n...                                               ...          ...       ...   \n2296315  lg6rn7eV/ZNg0+P+x77kHUL7GDMfoL4eMtXxncseLNA=        20192       958   \n2296316  nXi1lrSJe+gLoTTNky7If0mNPrIyCQCLwagwR6XopGU=       273391       465   \n2296317  9KxSvIjbJyJzfEVWnkMbgR6dyn6d54ot0N5FKyKqii8=       445172      1609   \n2296318  UO8Y2MR2sjOn2q/Tp8/lzZTGKmLEvwZ20oWanG4XnYc=       172669       465   \n2296319  V/9qPSUOGT0FeIGBhDIZRRz5Y5yyjdXC2Z/+bJExo5s=       270466       829   \n\n               artist_name                            composer     lyricist  \\\n0         張信哲 (Jeff Chang)                                  董貞          何啟弘   \n1                BLACKPINK  TEDDY|  FUTURE BOUNCE|  Bekuh BOOM        TEDDY   \n2             SUPER JUNIOR                                 NaN          NaN   \n3                    S.H.E                                 湯小康          徐世珍   \n4                     貴族精選                         Traditional  Traditional   \n...                    ...                                 ...          ...   \n2296315  Catherine Collard         Robert Schumann (1810-1856)          NaN   \n2296316  紀文惠 (Justine Chi)                                 NaN          NaN   \n2296317    Various Artists                                 NaN          NaN   \n2296318  Peter Paul & Mary                                 NaN          NaN   \n2296319      Kim Robertson                                 NaN          NaN   \n\n         language                                              name  \\\n0             3.0                                                焚情   \n1            31.0                                 PLAYING WITH FIRE   \n2            31.0                                      SORRY| SORRY   \n3             3.0                                             愛我的資格   \n4            52.0                            Mary Had a Little Lamb   \n...           ...                                               ...   \n2296315      -1.0       Schumann: Papillons| Op. 2: II. Prestissimo   \n2296316       3.0                                               怎麼啦   \n2296317      52.0                                        Still Here   \n2296318      52.0                                   If I Had My Way   \n2296319      52.0  The Water Is Wide/ Shall We Gather at the River?   \n\n                 isrc  \n0        TWB531410010  \n1                 NaN  \n2                 NaN  \n3        TWC950206108  \n4                 NaN  \n...               ...  \n2296315  FRZ207810303  \n2296316  TWR631100002  \n2296317  DEH741502074  \n2296318  USWB19904306  \n2296319  USASQ0914004  \n\n[2296320 rows x 9 columns]",
      "text/html": "<div>\n<style scoped>\n    .dataframe tbody tr th:only-of-type {\n        vertical-align: middle;\n    }\n\n    .dataframe tbody tr th {\n        vertical-align: top;\n    }\n\n    .dataframe thead th {\n        text-align: right;\n    }\n</style>\n<table border=\"1\" class=\"dataframe\">\n  <thead>\n    <tr style=\"text-align: right;\">\n      <th></th>\n      <th>song_id</th>\n      <th>song_length</th>\n      <th>genre_ids</th>\n      <th>artist_name</th>\n      <th>composer</th>\n      <th>lyricist</th>\n      <th>language</th>\n      <th>name</th>\n      <th>isrc</th>\n    </tr>\n  </thead>\n  <tbody>\n    <tr>\n      <th>0</th>\n      <td>CXoTN1eb7AI+DntdU1vbcwGRV4SCIDxZu+YD8JP8r4E=</td>\n      <td>247640</td>\n      <td>465</td>\n      <td>張信哲 (Jeff Chang)</td>\n      <td>董貞</td>\n      <td>何啟弘</td>\n      <td>3.0</td>\n      <td>焚情</td>\n      <td>TWB531410010</td>\n    </tr>\n    <tr>\n      <th>1</th>\n      <td>o0kFgae9QtnYgRkVPqLJwa05zIhRlUjfF7O1tDw0ZDU=</td>\n      <td>197328</td>\n      <td>444</td>\n      <td>BLACKPINK</td>\n      <td>TEDDY|  FUTURE BOUNCE|  Bekuh BOOM</td>\n      <td>TEDDY</td>\n      <td>31.0</td>\n      <td>PLAYING WITH FIRE</td>\n      <td>NaN</td>\n    </tr>\n    <tr>\n      <th>2</th>\n      <td>DwVvVurfpuz+XPuFvucclVQEyPqcpUkHR0ne1RQzPs0=</td>\n      <td>231781</td>\n      <td>465</td>\n      <td>SUPER JUNIOR</td>\n      <td>NaN</td>\n      <td>NaN</td>\n      <td>31.0</td>\n      <td>SORRY| SORRY</td>\n      <td>NaN</td>\n    </tr>\n    <tr>\n      <th>3</th>\n      <td>dKMBWoZyScdxSkihKG+Vf47nc18N9q4m58+b4e7dSSE=</td>\n      <td>273554</td>\n      <td>465</td>\n      <td>S.H.E</td>\n      <td>湯小康</td>\n      <td>徐世珍</td>\n      <td>3.0</td>\n      <td>愛我的資格</td>\n      <td>TWC950206108</td>\n    </tr>\n    <tr>\n      <th>4</th>\n      <td>W3bqWd3T+VeHFzHAUfARgW9AvVRaF4N5Yzm4Mr6Eo/o=</td>\n      <td>140329</td>\n      <td>726</td>\n      <td>貴族精選</td>\n      <td>Traditional</td>\n      <td>Traditional</td>\n      <td>52.0</td>\n      <td>Mary Had a Little Lamb</td>\n      <td>NaN</td>\n    </tr>\n    <tr>\n      <th>...</th>\n      <td>...</td>\n      <td>...</td>\n      <td>...</td>\n      <td>...</td>\n      <td>...</td>\n      <td>...</td>\n      <td>...</td>\n      <td>...</td>\n      <td>...</td>\n    </tr>\n    <tr>\n      <th>2296315</th>\n      <td>lg6rn7eV/ZNg0+P+x77kHUL7GDMfoL4eMtXxncseLNA=</td>\n      <td>20192</td>\n      <td>958</td>\n      <td>Catherine Collard</td>\n      <td>Robert Schumann (1810-1856)</td>\n      <td>NaN</td>\n      <td>-1.0</td>\n      <td>Schumann: Papillons| Op. 2: II. Prestissimo</td>\n      <td>FRZ207810303</td>\n    </tr>\n    <tr>\n      <th>2296316</th>\n      <td>nXi1lrSJe+gLoTTNky7If0mNPrIyCQCLwagwR6XopGU=</td>\n      <td>273391</td>\n      <td>465</td>\n      <td>紀文惠 (Justine Chi)</td>\n      <td>NaN</td>\n      <td>NaN</td>\n      <td>3.0</td>\n      <td>怎麼啦</td>\n      <td>TWR631100002</td>\n    </tr>\n    <tr>\n      <th>2296317</th>\n      <td>9KxSvIjbJyJzfEVWnkMbgR6dyn6d54ot0N5FKyKqii8=</td>\n      <td>445172</td>\n      <td>1609</td>\n      <td>Various Artists</td>\n      <td>NaN</td>\n      <td>NaN</td>\n      <td>52.0</td>\n      <td>Still Here</td>\n      <td>DEH741502074</td>\n    </tr>\n    <tr>\n      <th>2296318</th>\n      <td>UO8Y2MR2sjOn2q/Tp8/lzZTGKmLEvwZ20oWanG4XnYc=</td>\n      <td>172669</td>\n      <td>465</td>\n      <td>Peter Paul &amp; Mary</td>\n      <td>NaN</td>\n      <td>NaN</td>\n      <td>52.0</td>\n      <td>If I Had My Way</td>\n      <td>USWB19904306</td>\n    </tr>\n    <tr>\n      <th>2296319</th>\n      <td>V/9qPSUOGT0FeIGBhDIZRRz5Y5yyjdXC2Z/+bJExo5s=</td>\n      <td>270466</td>\n      <td>829</td>\n      <td>Kim Robertson</td>\n      <td>NaN</td>\n      <td>NaN</td>\n      <td>52.0</td>\n      <td>The Water Is Wide/ Shall We Gather at the River?</td>\n      <td>USASQ0914004</td>\n    </tr>\n  </tbody>\n</table>\n<p>2296320 rows × 9 columns</p>\n</div>"
     },
     "execution_count": 37,
     "metadata": {},
     "output_type": "execute_result"
    }
   ],
   "source": [
    "emb_train = pd.read_csv(data_path + 'train.csv')\n",
    "emb_songs = pd.read_csv(data_path + 'songs.csv')\n",
    "emb_songs_extra = pd.read_csv(data_path + 'song_extra_info.csv')\n",
    "\n",
    "emb_songs = emb_songs.merge(emb_songs_extra, on='song_id', how='left')\n",
    "emb_songs"
   ],
   "metadata": {
    "collapsed": false,
    "pycharm": {
     "name": "#%%\n"
    }
   }
  },
  {
   "cell_type": "markdown",
   "source": [
    "Заведем словарь, в котором для каждой песни из emb_songs, по ее id будет исполнитель_название,\n",
    "на котором мы собственно и будем строить эмбенддинги"
   ],
   "metadata": {
    "collapsed": false
   }
  },
  {
   "cell_type": "code",
   "execution_count": 38,
   "outputs": [],
   "source": [
    "songid2name = {}\n",
    "for _, row in emb_songs.iterrows():\n",
    "    song_name = row['name'] if str(row['name']) != \"nan\" else \"\"\n",
    "    songid2name[row['song_id']] = row['artist_name'] + '_' + song_name"
   ],
   "metadata": {
    "collapsed": false,
    "pycharm": {
     "name": "#%%\n"
    }
   }
  },
  {
   "cell_type": "markdown",
   "source": [
    "Заведем список history, в котором будут списки, состоящие из песен(исполнитель_название)\n",
    "прослушенных конкретным пользователем (с target=1)"
   ],
   "metadata": {
    "collapsed": false,
    "pycharm": {
     "name": "#%% md\n"
    }
   }
  },
  {
   "cell_type": "code",
   "execution_count": 39,
   "outputs": [],
   "source": [
    "user2songs = {}\n",
    "for _, row in emb_train[emb_train.target == 1].iterrows():\n",
    "    user, song_id = row['msno'], row['song_id']\n",
    "    if row['song_id'] in songid2name:\n",
    "        if user not in user2songs:\n",
    "            user2songs[user] = []\n",
    "        user2songs[user].append(songid2name[song_id])\n",
    "\n",
    "history = list(user2songs.values())"
   ],
   "metadata": {
    "collapsed": false,
    "pycharm": {
     "name": "#%%\n"
    }
   }
  },
  {
   "cell_type": "code",
   "execution_count": 40,
   "outputs": [],
   "source": [
    "w2v_model = Word2Vec(min_count=10,\n",
    "                     sg=1,\n",
    "                     negative=10,\n",
    "                     workers=multiprocessing.cpu_count())"
   ],
   "metadata": {
    "collapsed": false,
    "pycharm": {
     "name": "#%%\n"
    }
   }
  },
  {
   "cell_type": "code",
   "execution_count": 41,
   "outputs": [],
   "source": [
    "w2v_model.build_vocab(history)"
   ],
   "metadata": {
    "collapsed": false,
    "pycharm": {
     "name": "#%%\n"
    }
   }
  },
  {
   "cell_type": "code",
   "execution_count": 42,
   "outputs": [
    {
     "data": {
      "text/plain": "(66881378, 74292200)"
     },
     "execution_count": 42,
     "metadata": {},
     "output_type": "execute_result"
    }
   ],
   "source": [
    "w2v_model.train(history,total_examples=w2v_model.corpus_count, epochs=20)"
   ],
   "metadata": {
    "collapsed": false,
    "pycharm": {
     "name": "#%%\n"
    }
   }
  },
  {
   "cell_type": "code",
   "execution_count": 43,
   "outputs": [],
   "source": [
    "w2v_model.init_sims(replace=True)"
   ],
   "metadata": {
    "collapsed": false,
    "pycharm": {
     "name": "#%%\n"
    }
   }
  },
  {
   "cell_type": "markdown",
   "source": [
    "Возьмем в качестве примера исполнителя BLACKPINK, песню PLAYING WITH FIRE\n",
    "\n",
    "wiki: BLACKPINK - южнокорейская гёрл-группа"
   ],
   "metadata": {
    "collapsed": false
   }
  },
  {
   "cell_type": "code",
   "execution_count": 44,
   "outputs": [
    {
     "data": {
      "text/plain": "[('BANGTAN BOYS_Blood Sweat & Tears', 0.8719616532325745),\n ('Taeyeon_11:11', 0.871951699256897),\n ('TWICE_CHEER UP', 0.8702170252799988),\n ('BLACKPINK_STAY', 0.8589368462562561),\n ('TWICE_TT', 0.8232712745666504),\n ('BIGBANG TAEYANG_眼| 鼻| 口 (Eyes| Nose| Lips)', 0.8089508414268494),\n ('BLACKPINK_BOOMBAYAH', 0.7992258071899414),\n ('BLACKPINK_WHISTLE', 0.7892067432403564),\n ('TWICE_Like OOH-AHH', 0.7504295110702515),\n ('BANGTAN BOYS_Burning Up (FIRE)', 0.7095155715942383)]"
     },
     "execution_count": 44,
     "metadata": {},
     "output_type": "execute_result"
    }
   ],
   "source": [
    "w2v_model.wv.most_similar('BLACKPINK_PLAYING WITH FIRE')"
   ],
   "metadata": {
    "collapsed": false,
    "pycharm": {
     "name": "#%%\n"
    }
   }
  },
  {
   "cell_type": "markdown",
   "source": [
    "Получили очень качественные симилиары, ниже информация по исполнителям из рекомендаций\n",
    "\n",
    "wiki: BANGTAN BOYS - южнокорейский бойбенд\n",
    "\n",
    "wiki: TWICE - южнокорейская гёрл-группа\n",
    "\n",
    "wiki: Taeyeon - южнокорейская певица\n",
    "\n",
    "wiki: BIGBANG TAEYANG - южнокорейский певец\n",
    "\n",
    "wiki: I.O.I – южнокорейская временная гёрл-группа"
   ],
   "metadata": {
    "collapsed": false,
    "pycharm": {
     "name": "#%% md\n"
    }
   }
  },
  {
   "cell_type": "markdown",
   "source": [
    "### Используем полученные результаты в качестве рекомендера"
   ],
   "metadata": {
    "collapsed": false,
    "pycharm": {
     "name": "#%% md\n"
    }
   }
  },
  {
   "cell_type": "code",
   "execution_count": 45,
   "outputs": [
    {
     "data": {
      "text/plain": "100"
     },
     "execution_count": 45,
     "metadata": {},
     "output_type": "execute_result"
    }
   ],
   "source": [
    "# size=100 как значение по умолчанию в Word2Vec, тк мы его не задали\n",
    "size = len(w2v_model.wv.word_vec('BLACKPINK_PLAYING WITH FIRE'))\n",
    "size"
   ],
   "metadata": {
    "collapsed": false,
    "pycharm": {
     "name": "#%%\n"
    }
   }
  },
  {
   "cell_type": "markdown",
   "source": [
    "Заведем словарь user2emb, в котором по юзеру будет усредненный вектор по всем песням этого юзера"
   ],
   "metadata": {
    "collapsed": false
   }
  },
  {
   "cell_type": "code",
   "execution_count": 46,
   "outputs": [],
   "source": [
    "user2emb = {}\n",
    "\n",
    "default_vec = np.zeros(size)\n",
    "get_song_vec = lambda song: w2v_model.wv.word_vec(song) if song in w2v_model.wv else default_vec\n",
    "\n",
    "for user in user2songs:\n",
    "    user2emb[user] = np.mean([get_song_vec(song) for song in user2songs[user]], axis=0)"
   ],
   "metadata": {
    "collapsed": false,
    "pycharm": {
     "name": "#%%\n"
    }
   }
  },
  {
   "cell_type": "code",
   "execution_count": 47,
   "outputs": [],
   "source": [
    "get_user_emb = lambda user: user2emb[user] if user in user2emb else default_vec\n",
    "get_song_emb = lambda song_id: w2v_model.wv.word_vec(songid2name[song_id]) \\\n",
    "    if song_id in songid2name and songid2name[song_id] in w2v_model.wv else default_vec"
   ],
   "metadata": {
    "collapsed": false,
    "pycharm": {
     "name": "#%%\n"
    }
   }
  },
  {
   "cell_type": "code",
   "execution_count": 48,
   "outputs": [],
   "source": [
    "user_emb = emb_train.msno.apply(get_user_emb)\n",
    "song_emb = emb_train.song_id.apply(get_song_emb)"
   ],
   "metadata": {
    "collapsed": false,
    "pycharm": {
     "name": "#%%\n"
    }
   }
  },
  {
   "cell_type": "code",
   "execution_count": 49,
   "outputs": [
    {
     "data": {
      "text/plain": "array([0.00157744, 0.        , 0.        , ..., 0.00257635, 0.        ,\n       0.        ])"
     },
     "execution_count": 49,
     "metadata": {},
     "output_type": "execute_result"
    }
   ],
   "source": [
    "score = (np.vstack(user_emb) * np.vstack(song_emb)).mean(axis=1)\n",
    "score"
   ],
   "metadata": {
    "collapsed": false,
    "pycharm": {
     "name": "#%%\n"
    }
   }
  },
  {
   "cell_type": "code",
   "execution_count": 50,
   "outputs": [
    {
     "data": {
      "text/plain": "0.6405401733895032"
     },
     "execution_count": 50,
     "metadata": {},
     "output_type": "execute_result"
    }
   ],
   "source": [
    "roc_auc_score(emb_train[\"target\"], score)"
   ],
   "metadata": {
    "collapsed": false,
    "pycharm": {
     "name": "#%%\n"
    }
   }
  },
  {
   "cell_type": "markdown",
   "source": [
    "### Стек с GBDT"
   ],
   "metadata": {
    "collapsed": false,
    "pycharm": {
     "name": "#%% md\n"
    }
   }
  },
  {
   "cell_type": "code",
   "execution_count": 51,
   "outputs": [
    {
     "name": "stdout",
     "output_type": "stream",
     "text": [
      "0:\tlearn: 0.6770755\ttest: 0.6770786\tbest: 0.6770786 (0)\ttotal: 21.2s\tremaining: 34m 54s\n",
      "1:\tlearn: 0.6642239\ttest: 0.6642296\tbest: 0.6642296 (1)\ttotal: 37.7s\tremaining: 30m 46s\n",
      "2:\tlearn: 0.6536690\ttest: 0.6536769\tbest: 0.6536769 (2)\ttotal: 54.1s\tremaining: 29m 7s\n",
      "3:\tlearn: 0.6452013\ttest: 0.6452180\tbest: 0.6452180 (3)\ttotal: 1m 10s\tremaining: 28m 13s\n",
      "4:\tlearn: 0.6382848\ttest: 0.6383107\tbest: 0.6383107 (4)\ttotal: 1m 29s\tremaining: 28m 21s\n",
      "5:\tlearn: 0.6325851\ttest: 0.6326184\tbest: 0.6326184 (5)\ttotal: 1m 48s\tremaining: 28m 27s\n",
      "6:\tlearn: 0.6276188\ttest: 0.6276530\tbest: 0.6276530 (6)\ttotal: 2m 8s\tremaining: 28m 25s\n",
      "7:\tlearn: 0.6234591\ttest: 0.6234995\tbest: 0.6234995 (7)\ttotal: 2m 29s\tremaining: 28m 37s\n",
      "8:\tlearn: 0.6199449\ttest: 0.6199877\tbest: 0.6199877 (8)\ttotal: 2m 48s\tremaining: 28m 26s\n",
      "9:\tlearn: 0.6169032\ttest: 0.6169498\tbest: 0.6169498 (9)\ttotal: 3m 13s\tremaining: 28m 59s\n",
      "10:\tlearn: 0.6142833\ttest: 0.6143306\tbest: 0.6143306 (10)\ttotal: 3m 32s\tremaining: 28m 41s\n",
      "11:\tlearn: 0.6120669\ttest: 0.6121164\tbest: 0.6121164 (11)\ttotal: 3m 49s\tremaining: 28m 6s\n",
      "12:\tlearn: 0.6102002\ttest: 0.6102509\tbest: 0.6102509 (12)\ttotal: 4m 7s\tremaining: 27m 34s\n",
      "13:\tlearn: 0.6085696\ttest: 0.6086290\tbest: 0.6086290 (13)\ttotal: 4m 28s\tremaining: 27m 26s\n",
      "14:\tlearn: 0.6071645\ttest: 0.6072325\tbest: 0.6072325 (14)\ttotal: 4m 44s\tremaining: 26m 54s\n",
      "15:\tlearn: 0.6059315\ttest: 0.6060030\tbest: 0.6060030 (15)\ttotal: 5m 3s\tremaining: 26m 31s\n",
      "16:\tlearn: 0.6048285\ttest: 0.6048961\tbest: 0.6048961 (16)\ttotal: 5m 21s\tremaining: 26m 7s\n",
      "17:\tlearn: 0.6038192\ttest: 0.6038927\tbest: 0.6038927 (17)\ttotal: 5m 38s\tremaining: 25m 40s\n",
      "18:\tlearn: 0.6028896\ttest: 0.6029708\tbest: 0.6029708 (18)\ttotal: 5m 54s\tremaining: 25m 12s\n",
      "19:\tlearn: 0.6020490\ttest: 0.6021418\tbest: 0.6021418 (19)\ttotal: 6m 11s\tremaining: 24m 47s\n",
      "20:\tlearn: 0.6012807\ttest: 0.6013846\tbest: 0.6013846 (20)\ttotal: 6m 31s\tremaining: 24m 34s\n",
      "21:\tlearn: 0.6005880\ttest: 0.6007024\tbest: 0.6007024 (21)\ttotal: 6m 51s\tremaining: 24m 19s\n",
      "22:\tlearn: 0.5999215\ttest: 0.6000497\tbest: 0.6000497 (22)\ttotal: 7m 11s\tremaining: 24m 5s\n",
      "23:\tlearn: 0.5993114\ttest: 0.5994489\tbest: 0.5994489 (23)\ttotal: 7m 29s\tremaining: 23m 44s\n",
      "24:\tlearn: 0.5987723\ttest: 0.5989195\tbest: 0.5989195 (24)\ttotal: 7m 49s\tremaining: 23m 27s\n",
      "25:\tlearn: 0.5982356\ttest: 0.5983921\tbest: 0.5983921 (25)\ttotal: 8m 6s\tremaining: 23m 5s\n",
      "26:\tlearn: 0.5977515\ttest: 0.5979172\tbest: 0.5979172 (26)\ttotal: 8m 25s\tremaining: 22m 46s\n",
      "27:\tlearn: 0.5973146\ttest: 0.5974876\tbest: 0.5974876 (27)\ttotal: 8m 44s\tremaining: 22m 28s\n",
      "28:\tlearn: 0.5968902\ttest: 0.5970732\tbest: 0.5970732 (28)\ttotal: 9m 5s\tremaining: 22m 15s\n",
      "29:\tlearn: 0.5964753\ttest: 0.5966644\tbest: 0.5966644 (29)\ttotal: 9m 24s\tremaining: 21m 57s\n",
      "30:\tlearn: 0.5960257\ttest: 0.5962265\tbest: 0.5962265 (30)\ttotal: 9m 43s\tremaining: 21m 37s\n",
      "31:\tlearn: 0.5956580\ttest: 0.5958678\tbest: 0.5958678 (31)\ttotal: 10m 2s\tremaining: 21m 21s\n",
      "32:\tlearn: 0.5952999\ttest: 0.5955170\tbest: 0.5955170 (32)\ttotal: 10m 22s\tremaining: 21m 4s\n",
      "33:\tlearn: 0.5949587\ttest: 0.5951848\tbest: 0.5951848 (33)\ttotal: 10m 43s\tremaining: 20m 49s\n",
      "34:\tlearn: 0.5946345\ttest: 0.5948674\tbest: 0.5948674 (34)\ttotal: 11m 4s\tremaining: 20m 33s\n",
      "35:\tlearn: 0.5943293\ttest: 0.5945701\tbest: 0.5945701 (35)\ttotal: 11m 22s\tremaining: 20m 13s\n",
      "36:\tlearn: 0.5939922\ttest: 0.5942444\tbest: 0.5942444 (36)\ttotal: 11m 40s\tremaining: 19m 53s\n",
      "37:\tlearn: 0.5937002\ttest: 0.5939573\tbest: 0.5939573 (37)\ttotal: 11m 59s\tremaining: 19m 34s\n",
      "38:\tlearn: 0.5934265\ttest: 0.5936914\tbest: 0.5936914 (38)\ttotal: 12m 18s\tremaining: 19m 14s\n",
      "39:\tlearn: 0.5931754\ttest: 0.5934479\tbest: 0.5934479 (39)\ttotal: 12m 39s\tremaining: 18m 58s\n",
      "40:\tlearn: 0.5929001\ttest: 0.5931877\tbest: 0.5931877 (40)\ttotal: 12m 56s\tremaining: 18m 36s\n",
      "41:\tlearn: 0.5926292\ttest: 0.5929295\tbest: 0.5929295 (41)\ttotal: 13m 16s\tremaining: 18m 19s\n",
      "42:\tlearn: 0.5923383\ttest: 0.5926459\tbest: 0.5926459 (42)\ttotal: 13m 34s\tremaining: 17m 59s\n",
      "43:\tlearn: 0.5921179\ttest: 0.5924375\tbest: 0.5924375 (43)\ttotal: 13m 53s\tremaining: 17m 41s\n",
      "44:\tlearn: 0.5918775\ttest: 0.5922043\tbest: 0.5922043 (44)\ttotal: 14m 14s\tremaining: 17m 24s\n",
      "45:\tlearn: 0.5915529\ttest: 0.5918872\tbest: 0.5918872 (45)\ttotal: 14m 33s\tremaining: 17m 5s\n",
      "46:\tlearn: 0.5913115\ttest: 0.5916534\tbest: 0.5916534 (46)\ttotal: 14m 50s\tremaining: 16m 44s\n",
      "47:\tlearn: 0.5910605\ttest: 0.5914144\tbest: 0.5914144 (47)\ttotal: 15m 8s\tremaining: 16m 23s\n",
      "48:\tlearn: 0.5908437\ttest: 0.5912091\tbest: 0.5912091 (48)\ttotal: 15m 29s\tremaining: 16m 7s\n",
      "49:\tlearn: 0.5906393\ttest: 0.5910139\tbest: 0.5910139 (49)\ttotal: 15m 49s\tremaining: 15m 49s\n",
      "50:\tlearn: 0.5904210\ttest: 0.5908097\tbest: 0.5908097 (50)\ttotal: 16m 9s\tremaining: 15m 31s\n",
      "51:\tlearn: 0.5902050\ttest: 0.5906023\tbest: 0.5906023 (51)\ttotal: 16m 24s\tremaining: 15m 8s\n",
      "52:\tlearn: 0.5900298\ttest: 0.5904368\tbest: 0.5904368 (52)\ttotal: 16m 42s\tremaining: 14m 49s\n",
      "53:\tlearn: 0.5898355\ttest: 0.5902518\tbest: 0.5902518 (53)\ttotal: 17m 4s\tremaining: 14m 32s\n",
      "54:\tlearn: 0.5896418\ttest: 0.5900678\tbest: 0.5900678 (54)\ttotal: 17m 24s\tremaining: 14m 14s\n",
      "55:\tlearn: 0.5894594\ttest: 0.5898921\tbest: 0.5898921 (55)\ttotal: 17m 42s\tremaining: 13m 54s\n",
      "56:\tlearn: 0.5892283\ttest: 0.5896770\tbest: 0.5896770 (56)\ttotal: 17m 59s\tremaining: 13m 34s\n",
      "57:\tlearn: 0.5890237\ttest: 0.5894821\tbest: 0.5894821 (57)\ttotal: 18m 19s\tremaining: 13m 16s\n",
      "58:\tlearn: 0.5888225\ttest: 0.5892914\tbest: 0.5892914 (58)\ttotal: 18m 34s\tremaining: 12m 54s\n",
      "59:\tlearn: 0.5886536\ttest: 0.5891311\tbest: 0.5891311 (59)\ttotal: 18m 54s\tremaining: 12m 36s\n",
      "60:\tlearn: 0.5884744\ttest: 0.5889615\tbest: 0.5889615 (60)\ttotal: 19m 10s\tremaining: 12m 15s\n",
      "61:\tlearn: 0.5882943\ttest: 0.5887938\tbest: 0.5887938 (61)\ttotal: 19m 29s\tremaining: 11m 56s\n",
      "62:\tlearn: 0.5881259\ttest: 0.5886367\tbest: 0.5886367 (62)\ttotal: 19m 44s\tremaining: 11m 35s\n",
      "63:\tlearn: 0.5879642\ttest: 0.5884840\tbest: 0.5884840 (63)\ttotal: 20m 6s\tremaining: 11m 18s\n",
      "64:\tlearn: 0.5877791\ttest: 0.5883076\tbest: 0.5883076 (64)\ttotal: 20m 24s\tremaining: 10m 59s\n",
      "65:\tlearn: 0.5876405\ttest: 0.5881792\tbest: 0.5881792 (65)\ttotal: 20m 43s\tremaining: 10m 40s\n",
      "66:\tlearn: 0.5874561\ttest: 0.5880043\tbest: 0.5880043 (66)\ttotal: 21m 2s\tremaining: 10m 21s\n",
      "67:\tlearn: 0.5872508\ttest: 0.5878101\tbest: 0.5878101 (67)\ttotal: 21m 21s\tremaining: 10m 3s\n",
      "68:\tlearn: 0.5871059\ttest: 0.5876732\tbest: 0.5876732 (68)\ttotal: 21m 40s\tremaining: 9m 44s\n",
      "69:\tlearn: 0.5869037\ttest: 0.5874831\tbest: 0.5874831 (69)\ttotal: 21m 59s\tremaining: 9m 25s\n",
      "70:\tlearn: 0.5867683\ttest: 0.5873560\tbest: 0.5873560 (70)\ttotal: 22m 18s\tremaining: 9m 6s\n",
      "71:\tlearn: 0.5866156\ttest: 0.5872145\tbest: 0.5872145 (71)\ttotal: 22m 36s\tremaining: 8m 47s\n",
      "72:\tlearn: 0.5864701\ttest: 0.5870772\tbest: 0.5870772 (72)\ttotal: 22m 55s\tremaining: 8m 28s\n",
      "73:\tlearn: 0.5863207\ttest: 0.5869384\tbest: 0.5869384 (73)\ttotal: 23m 14s\tremaining: 8m 9s\n",
      "74:\tlearn: 0.5861852\ttest: 0.5868098\tbest: 0.5868098 (74)\ttotal: 23m 34s\tremaining: 7m 51s\n",
      "75:\tlearn: 0.5860512\ttest: 0.5866825\tbest: 0.5866825 (75)\ttotal: 23m 53s\tremaining: 7m 32s\n",
      "76:\tlearn: 0.5859096\ttest: 0.5865569\tbest: 0.5865569 (76)\ttotal: 24m 12s\tremaining: 7m 13s\n",
      "77:\tlearn: 0.5858004\ttest: 0.5864583\tbest: 0.5864583 (77)\ttotal: 24m 31s\tremaining: 6m 54s\n",
      "78:\tlearn: 0.5856619\ttest: 0.5863276\tbest: 0.5863276 (78)\ttotal: 24m 50s\tremaining: 6m 36s\n",
      "79:\tlearn: 0.5855208\ttest: 0.5861991\tbest: 0.5861991 (79)\ttotal: 25m 7s\tremaining: 6m 16s\n",
      "80:\tlearn: 0.5853953\ttest: 0.5860815\tbest: 0.5860815 (80)\ttotal: 25m 26s\tremaining: 5m 58s\n",
      "81:\tlearn: 0.5852744\ttest: 0.5859664\tbest: 0.5859664 (81)\ttotal: 25m 43s\tremaining: 5m 38s\n",
      "82:\tlearn: 0.5851352\ttest: 0.5858405\tbest: 0.5858405 (82)\ttotal: 26m 1s\tremaining: 5m 19s\n",
      "83:\tlearn: 0.5850298\ttest: 0.5857484\tbest: 0.5857484 (83)\ttotal: 26m 19s\tremaining: 5m\n",
      "84:\tlearn: 0.5848622\ttest: 0.5855897\tbest: 0.5855897 (84)\ttotal: 26m 37s\tremaining: 4m 41s\n",
      "85:\tlearn: 0.5847632\ttest: 0.5854972\tbest: 0.5854972 (85)\ttotal: 26m 57s\tremaining: 4m 23s\n",
      "86:\tlearn: 0.5846451\ttest: 0.5853880\tbest: 0.5853880 (86)\ttotal: 27m 18s\tremaining: 4m 4s\n",
      "87:\tlearn: 0.5845560\ttest: 0.5853069\tbest: 0.5853069 (87)\ttotal: 27m 37s\tremaining: 3m 46s\n",
      "88:\tlearn: 0.5844478\ttest: 0.5852068\tbest: 0.5852068 (88)\ttotal: 27m 55s\tremaining: 3m 27s\n",
      "89:\tlearn: 0.5843170\ttest: 0.5850830\tbest: 0.5850830 (89)\ttotal: 28m 14s\tremaining: 3m 8s\n",
      "90:\tlearn: 0.5841952\ttest: 0.5849721\tbest: 0.5849721 (90)\ttotal: 28m 34s\tremaining: 2m 49s\n",
      "91:\tlearn: 0.5840825\ttest: 0.5848712\tbest: 0.5848712 (91)\ttotal: 28m 55s\tremaining: 2m 30s\n",
      "92:\tlearn: 0.5839591\ttest: 0.5847599\tbest: 0.5847599 (92)\ttotal: 29m 12s\tremaining: 2m 11s\n",
      "93:\tlearn: 0.5838702\ttest: 0.5846826\tbest: 0.5846826 (93)\ttotal: 29m 29s\tremaining: 1m 52s\n",
      "94:\tlearn: 0.5837449\ttest: 0.5845638\tbest: 0.5845638 (94)\ttotal: 29m 46s\tremaining: 1m 34s\n",
      "95:\tlearn: 0.5836309\ttest: 0.5844614\tbest: 0.5844614 (95)\ttotal: 30m 7s\tremaining: 1m 15s\n",
      "96:\tlearn: 0.5835213\ttest: 0.5843635\tbest: 0.5843635 (96)\ttotal: 30m 24s\tremaining: 56.4s\n",
      "97:\tlearn: 0.5834299\ttest: 0.5842816\tbest: 0.5842816 (97)\ttotal: 30m 44s\tremaining: 37.6s\n",
      "98:\tlearn: 0.5832997\ttest: 0.5841615\tbest: 0.5841615 (98)\ttotal: 31m 2s\tremaining: 18.8s\n",
      "99:\tlearn: 0.5832184\ttest: 0.5840879\tbest: 0.5840879 (99)\ttotal: 31m 20s\tremaining: 0us\n"
     ]
    },
    {
     "data": {
      "text/plain": "    iterations  test-CrossEntropy-mean  test-CrossEntropy-std  \\\n0            0                0.677079               0.000087   \n1            1                0.664230               0.000174   \n2            2                0.653677               0.000127   \n3            3                0.645218               0.000150   \n4            4                0.638311               0.000140   \n..         ...                     ...                    ...   \n95          95                0.584461               0.000349   \n96          96                0.584364               0.000355   \n97          97                0.584282               0.000353   \n98          98                0.584162               0.000356   \n99          99                0.584088               0.000350   \n\n    train-CrossEntropy-mean  train-CrossEntropy-std  test-AUC-mean  \\\n0                  0.677075                0.000052       0.720396   \n1                  0.664224                0.000128       0.724255   \n2                  0.653669                0.000083       0.726226   \n3                  0.645201                0.000067       0.727607   \n4                  0.638285                0.000113       0.728758   \n..                      ...                     ...            ...   \n95                 0.583631                0.000258       0.757209   \n96                 0.583521                0.000255       0.757313   \n97                 0.583430                0.000243       0.757388   \n98                 0.583300                0.000246       0.757509   \n99                 0.583218                0.000252       0.757581   \n\n    test-AUC-std  \n0       0.000697  \n1       0.000624  \n2       0.000904  \n3       0.000944  \n4       0.000846  \n..           ...  \n95      0.000481  \n96      0.000496  \n97      0.000497  \n98      0.000494  \n99      0.000489  \n\n[100 rows x 7 columns]",
      "text/html": "<div>\n<style scoped>\n    .dataframe tbody tr th:only-of-type {\n        vertical-align: middle;\n    }\n\n    .dataframe tbody tr th {\n        vertical-align: top;\n    }\n\n    .dataframe thead th {\n        text-align: right;\n    }\n</style>\n<table border=\"1\" class=\"dataframe\">\n  <thead>\n    <tr style=\"text-align: right;\">\n      <th></th>\n      <th>iterations</th>\n      <th>test-CrossEntropy-mean</th>\n      <th>test-CrossEntropy-std</th>\n      <th>train-CrossEntropy-mean</th>\n      <th>train-CrossEntropy-std</th>\n      <th>test-AUC-mean</th>\n      <th>test-AUC-std</th>\n    </tr>\n  </thead>\n  <tbody>\n    <tr>\n      <th>0</th>\n      <td>0</td>\n      <td>0.677079</td>\n      <td>0.000087</td>\n      <td>0.677075</td>\n      <td>0.000052</td>\n      <td>0.720396</td>\n      <td>0.000697</td>\n    </tr>\n    <tr>\n      <th>1</th>\n      <td>1</td>\n      <td>0.664230</td>\n      <td>0.000174</td>\n      <td>0.664224</td>\n      <td>0.000128</td>\n      <td>0.724255</td>\n      <td>0.000624</td>\n    </tr>\n    <tr>\n      <th>2</th>\n      <td>2</td>\n      <td>0.653677</td>\n      <td>0.000127</td>\n      <td>0.653669</td>\n      <td>0.000083</td>\n      <td>0.726226</td>\n      <td>0.000904</td>\n    </tr>\n    <tr>\n      <th>3</th>\n      <td>3</td>\n      <td>0.645218</td>\n      <td>0.000150</td>\n      <td>0.645201</td>\n      <td>0.000067</td>\n      <td>0.727607</td>\n      <td>0.000944</td>\n    </tr>\n    <tr>\n      <th>4</th>\n      <td>4</td>\n      <td>0.638311</td>\n      <td>0.000140</td>\n      <td>0.638285</td>\n      <td>0.000113</td>\n      <td>0.728758</td>\n      <td>0.000846</td>\n    </tr>\n    <tr>\n      <th>...</th>\n      <td>...</td>\n      <td>...</td>\n      <td>...</td>\n      <td>...</td>\n      <td>...</td>\n      <td>...</td>\n      <td>...</td>\n    </tr>\n    <tr>\n      <th>95</th>\n      <td>95</td>\n      <td>0.584461</td>\n      <td>0.000349</td>\n      <td>0.583631</td>\n      <td>0.000258</td>\n      <td>0.757209</td>\n      <td>0.000481</td>\n    </tr>\n    <tr>\n      <th>96</th>\n      <td>96</td>\n      <td>0.584364</td>\n      <td>0.000355</td>\n      <td>0.583521</td>\n      <td>0.000255</td>\n      <td>0.757313</td>\n      <td>0.000496</td>\n    </tr>\n    <tr>\n      <th>97</th>\n      <td>97</td>\n      <td>0.584282</td>\n      <td>0.000353</td>\n      <td>0.583430</td>\n      <td>0.000243</td>\n      <td>0.757388</td>\n      <td>0.000497</td>\n    </tr>\n    <tr>\n      <th>98</th>\n      <td>98</td>\n      <td>0.584162</td>\n      <td>0.000356</td>\n      <td>0.583300</td>\n      <td>0.000246</td>\n      <td>0.757509</td>\n      <td>0.000494</td>\n    </tr>\n    <tr>\n      <th>99</th>\n      <td>99</td>\n      <td>0.584088</td>\n      <td>0.000350</td>\n      <td>0.583218</td>\n      <td>0.000252</td>\n      <td>0.757581</td>\n      <td>0.000489</td>\n    </tr>\n  </tbody>\n</table>\n<p>100 rows × 7 columns</p>\n</div>"
     },
     "execution_count": 51,
     "metadata": {},
     "output_type": "execute_result"
    }
   ],
   "source": [
    "dataset_train['w2v_score'] = score\n",
    "pool_with_w2v = Pool(data=dataset_train, label=y, cat_features=cat_features, has_header=True)\n",
    "cv_data = cv(params = best_params, pool = pool_with_w2v, fold_count = 5)\n",
    "cv_data"
   ],
   "metadata": {
    "collapsed": false,
    "pycharm": {
     "name": "#%%\n"
    }
   }
  },
  {
   "cell_type": "markdown",
   "source": [
    "Итого AUC на 5-fold получился:"
   ],
   "metadata": {
    "collapsed": false
   }
  },
  {
   "cell_type": "code",
   "execution_count": 52,
   "outputs": [
    {
     "data": {
      "text/plain": "0.7575808680874115"
     },
     "execution_count": 52,
     "metadata": {},
     "output_type": "execute_result"
    }
   ],
   "source": [
    "cv_data.iloc[-1]['test-AUC-mean']"
   ],
   "metadata": {
    "collapsed": false,
    "pycharm": {
     "name": "#%%\n"
    }
   }
  },
  {
   "cell_type": "markdown",
   "source": [
    "Получилось улучшить результат с 0.72 с 0.75, так что добавленный новый признак w2v_score очень важный"
   ],
   "metadata": {
    "collapsed": false,
    "pycharm": {
     "name": "#%% md\n"
    }
   }
  },
  {
   "cell_type": "code",
   "execution_count": 53,
   "outputs": [
    {
     "data": {
      "text/plain": "<catboost.core.CatBoostClassifier at 0x7fc5cf6bfd60>"
     },
     "execution_count": 53,
     "metadata": {},
     "output_type": "execute_result"
    }
   ],
   "source": [
    "model = CatBoostClassifier(**best_params, verbose=False)\n",
    "model.fit(pool_with_w2v)"
   ],
   "metadata": {
    "collapsed": false,
    "pycharm": {
     "name": "#%%\n"
    }
   }
  },
  {
   "cell_type": "code",
   "execution_count": 54,
   "outputs": [
    {
     "data": {
      "text/plain": "<Figure size 576x597.6 with 1 Axes>",
      "image/png": "[encoded data removed]"
     },
     "metadata": {
      "needs_background": "light"
     },
     "output_type": "display_data"
    }
   ],
   "source": [
    "import shap\n",
    "\n",
    "shap_values = shap.TreeExplainer(model).shap_values(dataset_train)\n",
    "\n",
    "shap.summary_plot(shap_values, dataset_train, plot_type=\"bar\")"
   ],
   "metadata": {
    "collapsed": false,
    "pycharm": {
     "name": "#%%\n"
    }
   }
  },
  {
   "cell_type": "markdown",
   "source": [
    "Как и ожидали - получили w2v_score как самый влияющий на результат признак\n"
   ],
   "metadata": {
    "collapsed": false,
    "pycharm": {
     "name": "#%% md\n"
    }
   }
  }
 ],
 "metadata": {
  "kernelspec": {
   "display_name": "Python 3",
   "language": "python",
   "name": "python3"
  },
  "language_info": {
   "codemirror_mode": {
    "name": "ipython",
    "version": 2
   },
   "file_extension": ".py",
   "mimetype": "text/x-python",
   "name": "python",
   "nbconvert_exporter": "python",
   "pygments_lexer": "ipython2",
   "version": "2.7.6"
  }
 },
 "nbformat": 4,
 "nbformat_minor": 0
}